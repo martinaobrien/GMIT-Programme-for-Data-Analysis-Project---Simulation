{
 "cells": [
  {
   "cell_type": "markdown",
   "metadata": {},
   "source": [
    "# Sandbox for the project"
   ]
  },
  {
   "cell_type": "code",
   "execution_count": 6,
   "metadata": {},
   "outputs": [],
   "source": [
    "#Import Libraries\n",
    "import pandas as pd\n",
    "import numpy as np\n",
    "import matplotlib.pyplot as plt\n",
    "import seaborn as sns\n",
    "\n"
   ]
  },
  {
   "cell_type": "code",
   "execution_count": 5,
   "metadata": {},
   "outputs": [
    {
     "data": {
      "text/html": [
       "<div>\n",
       "<style scoped>\n",
       "    .dataframe tbody tr th:only-of-type {\n",
       "        vertical-align: middle;\n",
       "    }\n",
       "\n",
       "    .dataframe tbody tr th {\n",
       "        vertical-align: top;\n",
       "    }\n",
       "\n",
       "    .dataframe thead th {\n",
       "        text-align: right;\n",
       "    }\n",
       "</style>\n",
       "<table border=\"1\" class=\"dataframe\">\n",
       "  <thead>\n",
       "    <tr style=\"text-align: right;\">\n",
       "      <th></th>\n",
       "      <th>Age</th>\n",
       "    </tr>\n",
       "  </thead>\n",
       "  <tbody>\n",
       "    <tr>\n",
       "      <th>0</th>\n",
       "      <td>63.0</td>\n",
       "    </tr>\n",
       "    <tr>\n",
       "      <th>1</th>\n",
       "      <td>20.0</td>\n",
       "    </tr>\n",
       "    <tr>\n",
       "      <th>2</th>\n",
       "      <td>50.0</td>\n",
       "    </tr>\n",
       "    <tr>\n",
       "      <th>3</th>\n",
       "      <td>22.0</td>\n",
       "    </tr>\n",
       "    <tr>\n",
       "      <th>4</th>\n",
       "      <td>46.0</td>\n",
       "    </tr>\n",
       "  </tbody>\n",
       "</table>\n",
       "</div>"
      ],
      "text/plain": [
       "    Age\n",
       "0  63.0\n",
       "1  20.0\n",
       "2  50.0\n",
       "3  22.0\n",
       "4  46.0"
      ]
     },
     "execution_count": 5,
     "metadata": {},
     "output_type": "execute_result"
    }
   ],
   "source": [
    "# Set the seed so the variable values are reproducible:\n",
    "\n",
    "np.random.seed(1500)\n",
    "\n",
    "\n",
    "# Setting the age range and sample size of students by concatenating the uniform and triangular distributions.\n",
    "# This method will generate a convincing student age distribution [3].\n",
    "\n",
    "Age1 = np.random.uniform(15,64,100)  # (low, high, size)\n",
    "Age2 = np.random.triangular(15,35,64,100) # (left, mode, right, size)\n",
    "Age = np.concatenate((Age1,Age2)) # Concatenating the distributions\n",
    "\n",
    "ages = Age.round(0)# Here we are rounding the age as to make it a whole number.\n",
    "Age_df = pd.DataFrame(ages, columns=['Age'])\n",
    "Age_df.head()"
   ]
  },
  {
   "cell_type": "code",
   "execution_count": 7,
   "metadata": {},
   "outputs": [
    {
     "ename": "SyntaxError",
     "evalue": "invalid syntax (<ipython-input-7-14c87b916d90>, line 2)",
     "output_type": "error",
     "traceback": [
      "\u001b[1;36m  File \u001b[1;32m\"<ipython-input-7-14c87b916d90>\"\u001b[1;36m, line \u001b[1;32m2\u001b[0m\n\u001b[1;33m    ----------------------------------------------------------------------------------------------------------------------------------------------------------------------------------------------------------------------\u001b[0m\n\u001b[1;37m                                                                                                                                                                                                                          ^\u001b[0m\n\u001b[1;31mSyntaxError\u001b[0m\u001b[1;31m:\u001b[0m invalid syntax\n"
     ]
    }
   ],
   "source": [
    "## Setup the Education Level DateFrame\n",
    "----------------------------------------------------------------------------------------------------------------------------------------------------------------------------------------------------------------------\n",
    "#create data for references\n",
    "\n",
    "level = ['Primary or Below', 'Lower Secondary', 'Higher Secondary', 'Post leaving certificate', 'Third level']\n",
    "\n",
    "#created a probability for each string, leaving a higher probability for 'reasonable' and 'good'\n",
    "\n",
    "prob = [0.05, 0.11, 0.22,0.15, 0.47]\n",
    "education_level = np.random.choice(level, 200, p=prob)\n",
    "\n",
    "##creating the dataframe for the references\n",
    "education_level_df = pd.DataFrame(education_level, columns=['Education Level'])\n",
    "\n",
    "#showing the first 5 references\n",
    "education_level_df.head()"
   ]
  },
  {
   "cell_type": "code",
   "execution_count": null,
   "metadata": {},
   "outputs": [],
   "source": []
  }
 ],
 "metadata": {
  "kernelspec": {
   "display_name": "Python 3",
   "language": "python",
   "name": "python3"
  },
  "language_info": {
   "codemirror_mode": {
    "name": "ipython",
    "version": 3
   },
   "file_extension": ".py",
   "mimetype": "text/x-python",
   "name": "python",
   "nbconvert_exporter": "python",
   "pygments_lexer": "ipython3",
   "version": "3.7.1"
  }
 },
 "nbformat": 4,
 "nbformat_minor": 2
}

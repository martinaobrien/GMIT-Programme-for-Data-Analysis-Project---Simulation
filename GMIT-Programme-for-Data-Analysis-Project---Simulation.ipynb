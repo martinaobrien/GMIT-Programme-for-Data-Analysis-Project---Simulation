{
 "cells": [
  {
   "cell_type": "markdown",
   "metadata": {},
   "source": [
    "# Programme for Data Analysis: Simulating a Real World Phenomenon"
   ]
  },
  {
   "cell_type": "markdown",
   "metadata": {},
   "source": [
    "## Exploring the impact of Third Level Education on Employment Attainment\n",
    "### GMIT Higher Diploma \n",
    "### Programming for Data Analytics\n",
    "#### Author: Martina O'Brien\n",
    "#### Submissiom date: 13 December 2019<br>\n",
    "Submitted as part of the requirements for the GMIT Higher Diploma in Data Analysis as part of the module Programme for Data Analysis 2019\n",
    "\n",
    "### **Table of Contents:**<br>\n",
    "**Section 1: Introduction**:<br>\n",
    "1.1:Introduction and Background<br>\n",
    "1.2:Motivation<br>\n",
    "\n",
    "**Section 2:Modeling and Sythesising the Data:**<br>\n",
    "2.1: Setting up the dataframe<br>\n",
    "2.2: Creating Dataframe<br>\n",
    "2.3: Sythesising the Data<br>\n",
    "2.4: Weighting of Variables<br>\n",
    "2.5: Distributions in the Dataframe<br>\n",
    "2.6: Relationships between the variables<br>\n",
    "\n",
    "**Section 3: Conclusion:**<br>\n",
    "3.1: Potential areas of future explorations<br>\n",
    "\n",
    "**Section 4: References:**<br>\n",
    "4.1: References<br>\n",
    "4.2: Useful Links<br>"
   ]
  },
  {
   "cell_type": "markdown",
   "metadata": {},
   "source": [
    "##### Importing Libraries for use in the Notebook"
   ]
  },
  {
   "cell_type": "code",
   "execution_count": 1,
   "metadata": {},
   "outputs": [],
   "source": [
    "#Importing Libraries needed for notebook\n",
    "import numpy as np \n",
    "import pandas as pd "
   ]
  },
  {
   "cell_type": "markdown",
   "metadata": {},
   "source": [
    "### **Section 1: Introduction**"
   ]
  },
  {
   "cell_type": "markdown",
   "metadata": {},
   "source": [
    "#### Introduction and Background to the Real-World Phenomenon: Educational Attainment and Employment\n",
    " \n",
    "Educational attainment is well known to be a factor influencing the employment predictability of an individual https://www.oecd-ilibrary.org/docserver/eag_highlights-2012-11-en.pdf?expires=1575233714&id=id&accname=guest&checksum=6E048A8FBA5F60213205266CDAA4CE07 http://www.welfare.ie/en/Pages/Chapter-3_-Risk-and-Protection-for-Children.aspx. In Ireland, it is compulsory to attend full time education from the ages of 6  - 16 years or until the finish of 3 years of second level education or the completion of the Junior Cycle curriculum under the Education Act 2000 https://www.citizensinformation.ie/en/education/the_irish_education_system/overview_of_the_irish_education_system.html <br>\n",
    "\n",
    "While Ireland is currently reaching full employment, with only 4.8% unemployment existing.  https://www.cso.ie/en/statistics/labourmarket/monthlyunemployment/ , equal to that of in 2007 before the economic recession, http://www.welfare.ie/en/Pages/Chapter-3_-Risk-and-Protection-for-Children.aspx., unemployment and its link to educational attainment still needs to be explored. There are still considerable disparities with 12.3%  of young people currently unemployed https://tradingeconomics.com/ireland/youth-unemployment-rate. Early school leavers are particularly vulnerable to labour market isolation. http://publicpolicy.ie/papers/education-and-employment-a-review-of-educational-attainment-and-labour-market-outcomes/ <br>\n",
    "\n",
    "##### About this dataset:  <br>\n",
    "In November, 2019, the most recent Educational Attainment Thematic Report 2019 was released by the Central Statistics Office, detailing the key findings in the relationship between educational attainment and employment https://pdf.cso.ie/www/pdf/20191121085016_Educational_Attainment_Thematic_Report_2019_full.pdf. This notebook will explore the relationship between educational attainment and employment in Ireland today.\n",
    "\n",
    "The dataset will contain 200 data points over 4 variable: gender, age, educational attainment and employment.\n",
    "\n",
    "| Variable  | Type | Description |\n",
    "| --- | --- | --- |\n",
    "| Gender | Categorical | Sex - Male/Female |\n",
    "| --- | --- | --- |\n",
    "| Age | Numerical | Value between 25 and 65|\n",
    "| --- | --- | --- |\n",
    "| Educational Attainment | Categorical | Highest level of education obtained|\n",
    "| --- | --- | --- |\n",
    "|Employment | Categorical | Employment status - Yes/No|\n",
    "\n",
    "Age\tNumerical\tValue between 25  and 65 \n",
    "Educational Attainment\tCategorical\tBased on the highest level of education obtained at time of data being collected: \n",
    "Employment\tCategorical\tEmployment status of data point\n",
    "\n",
    "A dataset will be modelled on the findings of the above report insofar as possible and randomly synthesised for the purpose of this report. The weighted variables and methodology will be outlined in the next section. \n",
    "\n",
    "\n",
    "#### Motivation for this project: \n",
    "As a youth work professional in the area of youth entrepreneurship, identifying barriers for accessing education is a key aspect of the role. This project will enable me to gain some further insight into the current picture of unemployment in Ireland and the socio economic factors that may be associated with that.   "
   ]
  },
  {
   "cell_type": "markdown",
   "metadata": {},
   "source": [
    "### Section 2: Modelling and Synthesising the Data"
   ]
  },
  {
   "cell_type": "code",
   "execution_count": null,
   "metadata": {},
   "outputs": [],
   "source": []
  },
  {
   "cell_type": "code",
   "execution_count": 3,
   "metadata": {},
   "outputs": [
    {
     "data": {
      "text/plain": [
       "array([50, 28, 30, 32, 34, 45, 24, 62, 40, 50, 26, 17, 33, 19, 38, 34, 47,\n",
       "       63, 48, 16, 40, 57, 30, 15, 33, 28, 19, 57, 29, 32, 41, 55, 54, 21,\n",
       "       31, 24, 58, 21, 42, 49, 55, 26, 46, 25, 52, 60, 55, 37, 24, 62, 17,\n",
       "       32, 60, 20, 57, 47, 53, 32, 44, 57, 20, 55, 17, 29, 54, 40, 47, 58,\n",
       "       28, 52, 43, 29, 45, 34, 18, 21, 34, 40, 37, 24, 45, 48, 51, 32, 27,\n",
       "       32, 27, 19, 24, 19, 45, 19, 22, 42, 29, 33, 53, 51, 63, 40, 28, 30,\n",
       "       58, 24, 41, 37, 56, 25, 45, 17, 33, 34, 47, 47, 42, 48, 49, 52, 39,\n",
       "       31, 28, 31, 37, 16, 35, 55, 32, 40, 57, 46, 18, 32, 52, 54, 47, 25,\n",
       "       27, 53, 17, 48, 42, 51, 58, 41, 27, 39, 36, 61, 31, 47, 16, 57, 34,\n",
       "       44, 58, 19, 48, 18, 38, 22, 42, 17, 53, 25, 31, 23, 59, 18, 27, 23,\n",
       "       46, 58, 42, 49, 36, 42, 29, 25, 33, 35, 41, 25, 63, 44, 23, 16, 62,\n",
       "       50, 54, 43, 21, 32, 50, 35, 50, 25, 49, 22, 62, 49])"
      ]
     },
     "execution_count": 3,
     "metadata": {},
     "output_type": "execute_result"
    }
   ],
   "source": [
    "age = np.random.randint(25, 64, 200)\n",
    "age"
   ]
  },
  {
   "cell_type": "code",
   "execution_count": 5,
   "metadata": {},
   "outputs": [],
   "source": [
    "#Categories as per CSO 2016 census\n",
    "education=['Primary or Below', 'Lower secondary', 'Higher secondary', 'Post Leaving Certificate','Third Level']"
   ]
  },
  {
   "cell_type": "code",
   "execution_count": null,
   "metadata": {},
   "outputs": [],
   "source": []
  }
 ],
 "metadata": {
  "kernelspec": {
   "display_name": "Python 3",
   "language": "python",
   "name": "python3"
  },
  "language_info": {
   "codemirror_mode": {
    "name": "ipython",
    "version": 3
   },
   "file_extension": ".py",
   "mimetype": "text/x-python",
   "name": "python",
   "nbconvert_exporter": "python",
   "pygments_lexer": "ipython3",
   "version": "3.7.1"
  }
 },
 "nbformat": 4,
 "nbformat_minor": 2
}

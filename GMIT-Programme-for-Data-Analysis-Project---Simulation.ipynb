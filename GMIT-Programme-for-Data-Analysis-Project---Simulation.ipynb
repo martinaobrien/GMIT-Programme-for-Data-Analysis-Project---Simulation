{
 "cells": [
  {
   "cell_type": "markdown",
   "metadata": {},
   "source": [
    "# Programme for Data Analysis: Simulating a Real World Phenomenon"
   ]
  },
  {
   "cell_type": "markdown",
   "metadata": {},
   "source": [
    "## Simulation of a Real World Phenomenon: Third Level Education and Employment Attainment\n",
    "\n",
    "How likely is someone to be employed depending on their education\n",
    "\n",
    "Variables\n",
    "Age\n",
    "Gender\n",
    "Level of Education\n",
    "Employment\n",
    "\n",
    "\n",
    "To do list: \n",
    "Find weighting for unemployed people according to educational attainments and age\n"
   ]
  },
  {
   "cell_type": "code",
   "execution_count": 1,
   "metadata": {},
   "outputs": [],
   "source": [
    "import numpy as np \n",
    "import pandas as pd "
   ]
  },
  {
   "cell_type": "code",
   "execution_count": 3,
   "metadata": {},
   "outputs": [
    {
     "data": {
      "text/plain": [
       "array([50, 28, 30, 32, 34, 45, 24, 62, 40, 50, 26, 17, 33, 19, 38, 34, 47,\n",
       "       63, 48, 16, 40, 57, 30, 15, 33, 28, 19, 57, 29, 32, 41, 55, 54, 21,\n",
       "       31, 24, 58, 21, 42, 49, 55, 26, 46, 25, 52, 60, 55, 37, 24, 62, 17,\n",
       "       32, 60, 20, 57, 47, 53, 32, 44, 57, 20, 55, 17, 29, 54, 40, 47, 58,\n",
       "       28, 52, 43, 29, 45, 34, 18, 21, 34, 40, 37, 24, 45, 48, 51, 32, 27,\n",
       "       32, 27, 19, 24, 19, 45, 19, 22, 42, 29, 33, 53, 51, 63, 40, 28, 30,\n",
       "       58, 24, 41, 37, 56, 25, 45, 17, 33, 34, 47, 47, 42, 48, 49, 52, 39,\n",
       "       31, 28, 31, 37, 16, 35, 55, 32, 40, 57, 46, 18, 32, 52, 54, 47, 25,\n",
       "       27, 53, 17, 48, 42, 51, 58, 41, 27, 39, 36, 61, 31, 47, 16, 57, 34,\n",
       "       44, 58, 19, 48, 18, 38, 22, 42, 17, 53, 25, 31, 23, 59, 18, 27, 23,\n",
       "       46, 58, 42, 49, 36, 42, 29, 25, 33, 35, 41, 25, 63, 44, 23, 16, 62,\n",
       "       50, 54, 43, 21, 32, 50, 35, 50, 25, 49, 22, 62, 49])"
      ]
     },
     "execution_count": 3,
     "metadata": {},
     "output_type": "execute_result"
    }
   ],
   "source": [
    "age = np.random.randint(25, 64, 200)\n",
    "age"
   ]
  },
  {
   "cell_type": "code",
   "execution_count": 5,
   "metadata": {},
   "outputs": [],
   "source": [
    "#Categories as per CSO 2016 census\n",
    "education=['Primary or Below', 'Lower secondary', 'Higher secondary', 'Post Leaving Certificate','Third Level']"
   ]
  },
  {
   "cell_type": "code",
   "execution_count": null,
   "metadata": {},
   "outputs": [],
   "source": []
  }
 ],
 "metadata": {
  "kernelspec": {
   "display_name": "Python 3",
   "language": "python",
   "name": "python3"
  },
  "language_info": {
   "codemirror_mode": {
    "name": "ipython",
    "version": 3
   },
   "file_extension": ".py",
   "mimetype": "text/x-python",
   "name": "python",
   "nbconvert_exporter": "python",
   "pygments_lexer": "ipython3",
   "version": "3.7.1"
  }
 },
 "nbformat": 4,
 "nbformat_minor": 2
}

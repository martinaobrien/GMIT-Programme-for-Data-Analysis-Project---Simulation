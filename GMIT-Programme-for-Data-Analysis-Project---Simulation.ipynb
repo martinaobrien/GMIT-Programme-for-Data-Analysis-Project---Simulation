{
 "cells": [
  {
   "cell_type": "markdown",
   "metadata": {},
   "source": [
    "# Programme for Data Analysis: Simulating a Dataset<img align=\"right\" src=\"img/gmit_logo.jpg\">\n",
    "\n",
    "## Real World Phenomenon: The Impact of Education Attainment on Employment \n",
    "\n",
    "**GMIT Higher Diploma in Data Analytics**<br>\n",
    "**Module:** Programming for Data Analytics<br>\n",
    "**Author:** Martina O'Brien<br>\n",
    "**Submissiom date:** 13 December 2019<br>\n",
    "\n",
    "Submitted as part of the requirements for the GMIT Higher Diploma in Data Analysis as part of the module Programme for Data Analysis 2019.\n",
    "\n",
    "## Table of Contents: \n",
    "[**Section 1: Introduction:**](#section1)<br/>\n",
    "    \n",
    "[**Section 2:Modeling and Sythesising the Data:**](#section2)<br/>\n",
    "    [2.1: Setting up the dataframe](#section2)<br/>\n",
    "    [2.2: Creating Dataframe](#section2.2)<br/>\n",
    "    [2.3: Distributions in the Dataframe](#section2.3)<br/>\n",
    "    [2.4: Relationships between the variables](#section2.4)\n",
    "\n",
    "[**Section 3: Conclusion:**](#section3)   \n",
    "   \n",
    "\n",
    "[**Section 4: References:**](#ref)<br/>"
   ]
  },
  {
   "cell_type": "markdown",
   "metadata": {},
   "source": [
    "<a id='section1'></a>\n",
    "## Section 1: Introduction"
   ]
  },
  {
   "cell_type": "markdown",
   "metadata": {},
   "source": [
    "#### 1.1. Introduction and Background:\n",
    " \n",
    "Educational attainment is well known to be a factor influencing the employment predictability of an individual [**(1)**](#ref1). In Ireland, it is compulsory to attend full time education from the ages of 6 - 16 years or until the finish of 3 years of second level education or the completion of the Junior Cycle curriculum under the Education Act 2000 [**(2)**](#ref2). While Ireland is currently reaching full employment, with only 4.8% unemployment still existing [**(3)**](#ref3). This rate is nearly equal to that of in 2007 before the economic recession occurred. This notebook explores data modelled on the predictability of an individual's employment status in relation to the highest level of education completed.<br>\n",
    "\n",
    "While the overall picture of employment looks healthy, there are still concerning statistics amongst certain groups of individuals in particular early school leavers (ESLs) [**(4)**](#ref4). Conversely, young people also experience high rates of unemployment in Ireland with 12.5% of young people. [**(5)**](#ref5),[**(6)**](#ref6). Conversely, It is important to understand the relationship between education and employment in order to address the arising needs and promote resilience for individuals within recession as it is well know that those with higher education levels are more likely to be employed.\n",
    "\n",
    "##### About this dataset:  <br>\n",
    "In November, 2019, the most recent Educational Attainment Thematic Report 2019 was released by the Central Statistics Office, detailing the key findings in the relationship between educational attainment and employment [**(7)**](#ref7)  This notebook will explore the relationship between educational attainment and employment in Ireland today.\n",
    "\n",
    "The dataset will contain 100 data points over 4 variable: gender, age, educational attainment and employment.\n",
    "\n",
    "| Variable  | Type | Description |\n",
    "| --- | --- | --- |\n",
    "| Gender | Categorical | Sex - Male/Female |\n",
    "| Age | Numerical | Value between 25 and 65 years of ages|\n",
    "| Educational Attainment | Categorical | Highest level of education obtained|\n",
    "|Employment | Categorical | Employment status - Yes/No|\n",
    "\n",
    "\n",
    "A dataset will be modelled on the findings of the above report insofar as possible and randomly synthesised for the purpose of this report. The weighted variables and methodology will be outlined in the next section. \n",
    "\n",
    "\n",
    "##### Motivation for this project: \n",
    "As a youth work professional in the area of youth entrepreneurship, identifying barriers for accessing employment is a key aspect of the role. This project will enable me to gain some further insight into the current picture of unemployment in Ireland and the socio economic factors that may be associated with that.   "
   ]
  },
  {
   "cell_type": "markdown",
   "metadata": {},
   "source": [
    "<a id='section2'></a>\n",
    "## Section 2: Modelling and Synthesising the Data"
   ]
  },
  {
   "cell_type": "markdown",
   "metadata": {},
   "source": [
    "<a id='section2'></a>\n",
    "### 2.1: Creating a dataframe:\n",
    "\n",
    "In this section, a dataframe will be created using the numpy.random function. The data will be replicable where applicable. Firstly, the data for the variables will be created. This data is based on CSO variance on each of the four variables."
   ]
  },
  {
   "cell_type": "markdown",
   "metadata": {},
   "source": [
    "##### Importing Libraries for use in the Notebook"
   ]
  },
  {
   "cell_type": "code",
   "execution_count": 1,
   "metadata": {
    "scrolled": true
   },
   "outputs": [],
   "source": [
    "#Importing Libraries needed for notebook\n",
    "import numpy as np \n",
    "import pandas as pd \n",
    "import matplotlib.pyplot as plt \n",
    "import seaborn as sns"
   ]
  },
  {
   "cell_type": "markdown",
   "metadata": {},
   "source": [
    "#### Age\n",
    "Firstly, the age variable is generated. It is done by using the np.random.seed function to ensure that the data generated is the same each time the notebook is ran. Next, random ages are generated between 25 - 64 years at 100 data points. This will represent that ages within the data set. The ages are rounded up or down to give a whole integer. Finally, the data frame is created to be used further on in the dataset. [**(8)**](#ref8),[**(9)**](#ref9),[**(10)**](#ref10)"
   ]
  },
  {
   "cell_type": "code",
   "execution_count": 2,
   "metadata": {},
   "outputs": [
    {
     "data": {
      "text/html": [
       "<div>\n",
       "<style scoped>\n",
       "    .dataframe tbody tr th:only-of-type {\n",
       "        vertical-align: middle;\n",
       "    }\n",
       "\n",
       "    .dataframe tbody tr th {\n",
       "        vertical-align: top;\n",
       "    }\n",
       "\n",
       "    .dataframe thead th {\n",
       "        text-align: right;\n",
       "    }\n",
       "</style>\n",
       "<table border=\"1\" class=\"dataframe\">\n",
       "  <thead>\n",
       "    <tr style=\"text-align: right;\">\n",
       "      <th></th>\n",
       "      <th>Age</th>\n",
       "    </tr>\n",
       "  </thead>\n",
       "  <tbody>\n",
       "    <tr>\n",
       "      <th>0</th>\n",
       "      <td>25</td>\n",
       "    </tr>\n",
       "    <tr>\n",
       "      <th>1</th>\n",
       "      <td>55</td>\n",
       "    </tr>\n",
       "    <tr>\n",
       "      <th>2</th>\n",
       "      <td>52</td>\n",
       "    </tr>\n",
       "    <tr>\n",
       "      <th>3</th>\n",
       "      <td>53</td>\n",
       "    </tr>\n",
       "    <tr>\n",
       "      <th>4</th>\n",
       "      <td>25</td>\n",
       "    </tr>\n",
       "  </tbody>\n",
       "</table>\n",
       "</div>"
      ],
      "text/plain": [
       "   Age\n",
       "0   25\n",
       "1   55\n",
       "2   52\n",
       "3   53\n",
       "4   25"
      ]
     },
     "execution_count": 2,
     "metadata": {},
     "output_type": "execute_result"
    }
   ],
   "source": [
    "np.random.seed(1750) #Using the seed function to ensure the output in the same every time the notebook is run\n",
    "#(8)\n",
    "age =np.random.randint(25,65,100) # randomly generate numbers between 25 and 64 with 100 datapoint\n",
    "#(9)\n",
    "age = age.round(0) #Round the integers\n",
    "#(10)\n",
    "age_df = pd.DataFrame(age, columns=['Age'])#Creating a dataframe with a column heading 'Age'\n",
    "age_df.head()# Displaying the head of the dataframe"
   ]
  },
  {
   "cell_type": "code",
   "execution_count": 3,
   "metadata": {
    "scrolled": true
   },
   "outputs": [
    {
     "data": {
      "text/html": [
       "<div>\n",
       "<style scoped>\n",
       "    .dataframe tbody tr th:only-of-type {\n",
       "        vertical-align: middle;\n",
       "    }\n",
       "\n",
       "    .dataframe tbody tr th {\n",
       "        vertical-align: top;\n",
       "    }\n",
       "\n",
       "    .dataframe thead th {\n",
       "        text-align: right;\n",
       "    }\n",
       "</style>\n",
       "<table border=\"1\" class=\"dataframe\">\n",
       "  <thead>\n",
       "    <tr style=\"text-align: right;\">\n",
       "      <th></th>\n",
       "      <th>Age</th>\n",
       "    </tr>\n",
       "  </thead>\n",
       "  <tbody>\n",
       "    <tr>\n",
       "      <th>count</th>\n",
       "      <td>100.00000</td>\n",
       "    </tr>\n",
       "    <tr>\n",
       "      <th>mean</th>\n",
       "      <td>44.46000</td>\n",
       "    </tr>\n",
       "    <tr>\n",
       "      <th>std</th>\n",
       "      <td>11.05854</td>\n",
       "    </tr>\n",
       "    <tr>\n",
       "      <th>min</th>\n",
       "      <td>25.00000</td>\n",
       "    </tr>\n",
       "    <tr>\n",
       "      <th>25%</th>\n",
       "      <td>37.00000</td>\n",
       "    </tr>\n",
       "    <tr>\n",
       "      <th>50%</th>\n",
       "      <td>44.00000</td>\n",
       "    </tr>\n",
       "    <tr>\n",
       "      <th>75%</th>\n",
       "      <td>53.25000</td>\n",
       "    </tr>\n",
       "    <tr>\n",
       "      <th>max</th>\n",
       "      <td>64.00000</td>\n",
       "    </tr>\n",
       "  </tbody>\n",
       "</table>\n",
       "</div>"
      ],
      "text/plain": [
       "             Age\n",
       "count  100.00000\n",
       "mean    44.46000\n",
       "std     11.05854\n",
       "min     25.00000\n",
       "25%     37.00000\n",
       "50%     44.00000\n",
       "75%     53.25000\n",
       "max     64.00000"
      ]
     },
     "execution_count": 3,
     "metadata": {},
     "output_type": "execute_result"
    }
   ],
   "source": [
    "age_df.describe()"
   ]
  },
  {
   "cell_type": "markdown",
   "metadata": {},
   "source": [
    "The above dataframe will +\n",
    "This spread will be visualised in the next section [**(11)**](#ref11). "
   ]
  },
  {
   "cell_type": "markdown",
   "metadata": {},
   "source": [
    "#### Education Attainment\n",
    "\n",
    "The Education Attainment variable is categorical with 5 values: *Primary Level, Lower Secondary Level, Upper Secondary Level, Post Level Certificate and Third Level*. Using the Thematic Report from November 2019 referenced in this sections introduction, weighting will be added in to ensure the data is simulating a real life phenomenon [**(12)**](#ref12)."
   ]
  },
  {
   "cell_type": "code",
   "execution_count": 4,
   "metadata": {},
   "outputs": [
    {
     "data": {
      "text/html": [
       "<div>\n",
       "<style scoped>\n",
       "    .dataframe tbody tr th:only-of-type {\n",
       "        vertical-align: middle;\n",
       "    }\n",
       "\n",
       "    .dataframe tbody tr th {\n",
       "        vertical-align: top;\n",
       "    }\n",
       "\n",
       "    .dataframe thead th {\n",
       "        text-align: right;\n",
       "    }\n",
       "</style>\n",
       "<table border=\"1\" class=\"dataframe\">\n",
       "  <thead>\n",
       "    <tr style=\"text-align: right;\">\n",
       "      <th></th>\n",
       "      <th>Education Level</th>\n",
       "    </tr>\n",
       "  </thead>\n",
       "  <tbody>\n",
       "    <tr>\n",
       "      <th>0</th>\n",
       "      <td>Higher Secondary</td>\n",
       "    </tr>\n",
       "    <tr>\n",
       "      <th>1</th>\n",
       "      <td>Third Level</td>\n",
       "    </tr>\n",
       "    <tr>\n",
       "      <th>2</th>\n",
       "      <td>Higher Secondary</td>\n",
       "    </tr>\n",
       "    <tr>\n",
       "      <th>3</th>\n",
       "      <td>Post Leaving Certificate</td>\n",
       "    </tr>\n",
       "    <tr>\n",
       "      <th>4</th>\n",
       "      <td>Third Level</td>\n",
       "    </tr>\n",
       "  </tbody>\n",
       "</table>\n",
       "</div>"
      ],
      "text/plain": [
       "            Education Level\n",
       "0          Higher Secondary\n",
       "1               Third Level\n",
       "2          Higher Secondary\n",
       "3  Post Leaving Certificate\n",
       "4               Third Level"
      ]
     },
     "execution_count": 4,
     "metadata": {},
     "output_type": "execute_result"
    }
   ],
   "source": [
    "#References for values contained in the dataset\n",
    "level = ['Primary Level', 'Lower Secondary', 'Higher Secondary', 'Post Leaving Certificate', 'Third Level']\n",
    "#Based on statistics, a probability for each string is created.\n",
    "# Probability is as follows: Primary Level is the lowest, Lower Secondary is .11 and so on\n",
    "prob = [0.05, 0.11, 0.22, 0.15, 0.47]\n",
    "education_level = np.random.choice(level, 100, p=prob) #random choice is used to generate the dataframe\n",
    "education_level_df = pd.DataFrame(education_level, columns=['Education Level'])# Creates a dataframe \n",
    "education_level_df.head()#showing the first 5 data entries"
   ]
  },
  {
   "cell_type": "markdown",
   "metadata": {},
   "source": [
    "The describe function will now be called to give an overview of the statistics and also highlights if there are any missing values. Third level is the most frequent level of education attained in the dataset as per the weighting applied previously."
   ]
  },
  {
   "cell_type": "code",
   "execution_count": 5,
   "metadata": {},
   "outputs": [
    {
     "data": {
      "text/html": [
       "<div>\n",
       "<style scoped>\n",
       "    .dataframe tbody tr th:only-of-type {\n",
       "        vertical-align: middle;\n",
       "    }\n",
       "\n",
       "    .dataframe tbody tr th {\n",
       "        vertical-align: top;\n",
       "    }\n",
       "\n",
       "    .dataframe thead th {\n",
       "        text-align: right;\n",
       "    }\n",
       "</style>\n",
       "<table border=\"1\" class=\"dataframe\">\n",
       "  <thead>\n",
       "    <tr style=\"text-align: right;\">\n",
       "      <th></th>\n",
       "      <th>Education Level</th>\n",
       "    </tr>\n",
       "  </thead>\n",
       "  <tbody>\n",
       "    <tr>\n",
       "      <th>count</th>\n",
       "      <td>100</td>\n",
       "    </tr>\n",
       "    <tr>\n",
       "      <th>unique</th>\n",
       "      <td>5</td>\n",
       "    </tr>\n",
       "    <tr>\n",
       "      <th>top</th>\n",
       "      <td>Third Level</td>\n",
       "    </tr>\n",
       "    <tr>\n",
       "      <th>freq</th>\n",
       "      <td>41</td>\n",
       "    </tr>\n",
       "  </tbody>\n",
       "</table>\n",
       "</div>"
      ],
      "text/plain": [
       "       Education Level\n",
       "count              100\n",
       "unique               5\n",
       "top        Third Level\n",
       "freq                41"
      ]
     },
     "execution_count": 5,
     "metadata": {},
     "output_type": "execute_result"
    }
   ],
   "source": [
    "education_level_df.describe() #using the df.describe function to give discriptive statistics"
   ]
  },
  {
   "cell_type": "markdown",
   "metadata": {},
   "source": [
    "#### Gender"
   ]
  },
  {
   "cell_type": "markdown",
   "metadata": {},
   "source": [
    "The Gender dataframe is now compiled for the dataset using the 'Male' and 'Female' as collected in the Central Statistics Office Census 2016. Ireland has almost equal amounts of people identifying as male and female. [**(13)**](#ref13)"
   ]
  },
  {
   "cell_type": "code",
   "execution_count": 6,
   "metadata": {
    "scrolled": true
   },
   "outputs": [
    {
     "data": {
      "text/html": [
       "<div>\n",
       "<style scoped>\n",
       "    .dataframe tbody tr th:only-of-type {\n",
       "        vertical-align: middle;\n",
       "    }\n",
       "\n",
       "    .dataframe tbody tr th {\n",
       "        vertical-align: top;\n",
       "    }\n",
       "\n",
       "    .dataframe thead th {\n",
       "        text-align: right;\n",
       "    }\n",
       "</style>\n",
       "<table border=\"1\" class=\"dataframe\">\n",
       "  <thead>\n",
       "    <tr style=\"text-align: right;\">\n",
       "      <th></th>\n",
       "      <th>Gender</th>\n",
       "    </tr>\n",
       "  </thead>\n",
       "  <tbody>\n",
       "    <tr>\n",
       "      <th>0</th>\n",
       "      <td>male</td>\n",
       "    </tr>\n",
       "    <tr>\n",
       "      <th>1</th>\n",
       "      <td>male</td>\n",
       "    </tr>\n",
       "    <tr>\n",
       "      <th>2</th>\n",
       "      <td>female</td>\n",
       "    </tr>\n",
       "    <tr>\n",
       "      <th>3</th>\n",
       "      <td>female</td>\n",
       "    </tr>\n",
       "    <tr>\n",
       "      <th>4</th>\n",
       "      <td>female</td>\n",
       "    </tr>\n",
       "  </tbody>\n",
       "</table>\n",
       "</div>"
      ],
      "text/plain": [
       "   Gender\n",
       "0    male\n",
       "1    male\n",
       "2  female\n",
       "3  female\n",
       "4  female"
      ]
     },
     "execution_count": 6,
     "metadata": {},
     "output_type": "execute_result"
    }
   ],
   "source": [
    "gender = ['male','female'] #values as per CSO Census\n",
    "prob_gender = [.4961,.5039] #breakdown of values\n",
    "sex = np.random.choice(gender, 100, p = prob_gender)#random choice generates the data\n",
    "gender_df = pd.DataFrame(sex, columns=['Gender'])#dataframe is displayed\n",
    "gender_df.head() #showing the first five data entries"
   ]
  },
  {
   "cell_type": "markdown",
   "metadata": {},
   "source": [
    "**Note**: The df.head function does not represent the breakdown of the variables, it only represents the first 5 datapoints."
   ]
  },
  {
   "cell_type": "code",
   "execution_count": 7,
   "metadata": {},
   "outputs": [
    {
     "data": {
      "text/html": [
       "<div>\n",
       "<style scoped>\n",
       "    .dataframe tbody tr th:only-of-type {\n",
       "        vertical-align: middle;\n",
       "    }\n",
       "\n",
       "    .dataframe tbody tr th {\n",
       "        vertical-align: top;\n",
       "    }\n",
       "\n",
       "    .dataframe thead th {\n",
       "        text-align: right;\n",
       "    }\n",
       "</style>\n",
       "<table border=\"1\" class=\"dataframe\">\n",
       "  <thead>\n",
       "    <tr style=\"text-align: right;\">\n",
       "      <th></th>\n",
       "      <th>Gender</th>\n",
       "    </tr>\n",
       "  </thead>\n",
       "  <tbody>\n",
       "    <tr>\n",
       "      <th>count</th>\n",
       "      <td>100</td>\n",
       "    </tr>\n",
       "    <tr>\n",
       "      <th>unique</th>\n",
       "      <td>2</td>\n",
       "    </tr>\n",
       "    <tr>\n",
       "      <th>top</th>\n",
       "      <td>female</td>\n",
       "    </tr>\n",
       "    <tr>\n",
       "      <th>freq</th>\n",
       "      <td>52</td>\n",
       "    </tr>\n",
       "  </tbody>\n",
       "</table>\n",
       "</div>"
      ],
      "text/plain": [
       "        Gender\n",
       "count      100\n",
       "unique       2\n",
       "top     female\n",
       "freq        52"
      ]
     },
     "execution_count": 7,
     "metadata": {},
     "output_type": "execute_result"
    }
   ],
   "source": [
    "gender_df.describe() #descriptive statistics of the Gender variable"
   ]
  },
  {
   "cell_type": "markdown",
   "metadata": {},
   "source": [
    "#### Employment Status"
   ]
  },
  {
   "cell_type": "markdown",
   "metadata": {},
   "source": [
    "The last variable added in the category 'Employment Status', denoting whether or not an individual was in employment at the time of data collection [**(14)**](#ref14), based on the October, 2019 statistics released by the Central Statistics Office. "
   ]
  },
  {
   "cell_type": "code",
   "execution_count": 8,
   "metadata": {
    "scrolled": true
   },
   "outputs": [
    {
     "data": {
      "text/html": [
       "<div>\n",
       "<style scoped>\n",
       "    .dataframe tbody tr th:only-of-type {\n",
       "        vertical-align: middle;\n",
       "    }\n",
       "\n",
       "    .dataframe tbody tr th {\n",
       "        vertical-align: top;\n",
       "    }\n",
       "\n",
       "    .dataframe thead th {\n",
       "        text-align: right;\n",
       "    }\n",
       "</style>\n",
       "<table border=\"1\" class=\"dataframe\">\n",
       "  <thead>\n",
       "    <tr style=\"text-align: right;\">\n",
       "      <th></th>\n",
       "      <th>Employment Status</th>\n",
       "    </tr>\n",
       "  </thead>\n",
       "  <tbody>\n",
       "    <tr>\n",
       "      <th>0</th>\n",
       "      <td>Unemployed</td>\n",
       "    </tr>\n",
       "    <tr>\n",
       "      <th>1</th>\n",
       "      <td>Employed</td>\n",
       "    </tr>\n",
       "    <tr>\n",
       "      <th>2</th>\n",
       "      <td>Employed</td>\n",
       "    </tr>\n",
       "    <tr>\n",
       "      <th>3</th>\n",
       "      <td>Employed</td>\n",
       "    </tr>\n",
       "    <tr>\n",
       "      <th>4</th>\n",
       "      <td>Employed</td>\n",
       "    </tr>\n",
       "  </tbody>\n",
       "</table>\n",
       "</div>"
      ],
      "text/plain": [
       "  Employment Status\n",
       "0        Unemployed\n",
       "1          Employed\n",
       "2          Employed\n",
       "3          Employed\n",
       "4          Employed"
      ]
     },
     "execution_count": 8,
     "metadata": {},
     "output_type": "execute_result"
    }
   ],
   "source": [
    "status = ['Employed', 'Unemployed']#create data for variable\n",
    "prob_employment = [0.958,0.042]#created a probability for value\n",
    "employment = np.random.choice(status, 100, p=prob_employment) #random choice for the variables\n",
    "employment_df = pd.DataFrame(employment, columns=['Employment Status'])##creating the dataframe for the variable\n",
    "employment_df.head()#showing the first 5 data entries"
   ]
  },
  {
   "cell_type": "code",
   "execution_count": 9,
   "metadata": {},
   "outputs": [
    {
     "data": {
      "text/html": [
       "<div>\n",
       "<style scoped>\n",
       "    .dataframe tbody tr th:only-of-type {\n",
       "        vertical-align: middle;\n",
       "    }\n",
       "\n",
       "    .dataframe tbody tr th {\n",
       "        vertical-align: top;\n",
       "    }\n",
       "\n",
       "    .dataframe thead th {\n",
       "        text-align: right;\n",
       "    }\n",
       "</style>\n",
       "<table border=\"1\" class=\"dataframe\">\n",
       "  <thead>\n",
       "    <tr style=\"text-align: right;\">\n",
       "      <th></th>\n",
       "      <th>Employment Status</th>\n",
       "    </tr>\n",
       "  </thead>\n",
       "  <tbody>\n",
       "    <tr>\n",
       "      <th>count</th>\n",
       "      <td>100</td>\n",
       "    </tr>\n",
       "    <tr>\n",
       "      <th>unique</th>\n",
       "      <td>2</td>\n",
       "    </tr>\n",
       "    <tr>\n",
       "      <th>top</th>\n",
       "      <td>Employed</td>\n",
       "    </tr>\n",
       "    <tr>\n",
       "      <th>freq</th>\n",
       "      <td>92</td>\n",
       "    </tr>\n",
       "  </tbody>\n",
       "</table>\n",
       "</div>"
      ],
      "text/plain": [
       "       Employment Status\n",
       "count                100\n",
       "unique                 2\n",
       "top             Employed\n",
       "freq                  92"
      ]
     },
     "execution_count": 9,
     "metadata": {},
     "output_type": "execute_result"
    }
   ],
   "source": [
    "employment_df.describe() #descriptive statistics of the Employment Status variable"
   ]
  },
  {
   "cell_type": "markdown",
   "metadata": {},
   "source": [
    " <a id='section2.2'></a>\n",
    " ### 2.2 Creating Dataframe"
   ]
  },
  {
   "cell_type": "markdown",
   "metadata": {},
   "source": [
    "Now that all the variables have their values, we will concanentate them into the dataframe that will be used to explore the link between educational attainment and employment status. The pd.concat function within pandas will be used [**(15)**](#ref15),[**(16)**](#ref16),[**(17)**](#ref17)"
   ]
  },
  {
   "cell_type": "code",
   "execution_count": 10,
   "metadata": {
    "scrolled": true
   },
   "outputs": [
    {
     "data": {
      "text/html": [
       "<table border=\"1\" class=\"dataframe\">\n",
       "  <thead>\n",
       "    <tr style=\"text-align: right;\">\n",
       "      <th></th>\n",
       "      <th>Age</th>\n",
       "      <th>Education Level</th>\n",
       "      <th>Gender</th>\n",
       "      <th>Employment Status</th>\n",
       "    </tr>\n",
       "  </thead>\n",
       "  <tbody>\n",
       "    <tr>\n",
       "      <th>0</th>\n",
       "      <td>25</td>\n",
       "      <td>Higher Secondary</td>\n",
       "      <td>male</td>\n",
       "      <td>Unemployed</td>\n",
       "    </tr>\n",
       "    <tr>\n",
       "      <th>1</th>\n",
       "      <td>55</td>\n",
       "      <td>Third Level</td>\n",
       "      <td>male</td>\n",
       "      <td>Employed</td>\n",
       "    </tr>\n",
       "    <tr>\n",
       "      <th>2</th>\n",
       "      <td>52</td>\n",
       "      <td>Higher Secondary</td>\n",
       "      <td>female</td>\n",
       "      <td>Employed</td>\n",
       "    </tr>\n",
       "    <tr>\n",
       "      <th>3</th>\n",
       "      <td>53</td>\n",
       "      <td>Post Leaving Certificate</td>\n",
       "      <td>female</td>\n",
       "      <td>Employed</td>\n",
       "    </tr>\n",
       "    <tr>\n",
       "      <th>4</th>\n",
       "      <td>25</td>\n",
       "      <td>Third Level</td>\n",
       "      <td>female</td>\n",
       "      <td>Employed</td>\n",
       "    </tr>\n",
       "    <tr>\n",
       "      <th>5</th>\n",
       "      <td>58</td>\n",
       "      <td>Lower Secondary</td>\n",
       "      <td>female</td>\n",
       "      <td>Employed</td>\n",
       "    </tr>\n",
       "    <tr>\n",
       "      <th>6</th>\n",
       "      <td>39</td>\n",
       "      <td>Higher Secondary</td>\n",
       "      <td>male</td>\n",
       "      <td>Employed</td>\n",
       "    </tr>\n",
       "    <tr>\n",
       "      <th>7</th>\n",
       "      <td>48</td>\n",
       "      <td>Higher Secondary</td>\n",
       "      <td>female</td>\n",
       "      <td>Employed</td>\n",
       "    </tr>\n",
       "    <tr>\n",
       "      <th>8</th>\n",
       "      <td>38</td>\n",
       "      <td>Higher Secondary</td>\n",
       "      <td>female</td>\n",
       "      <td>Unemployed</td>\n",
       "    </tr>\n",
       "    <tr>\n",
       "      <th>9</th>\n",
       "      <td>41</td>\n",
       "      <td>Post Leaving Certificate</td>\n",
       "      <td>male</td>\n",
       "      <td>Employed</td>\n",
       "    </tr>\n",
       "    <tr>\n",
       "      <th>10</th>\n",
       "      <td>34</td>\n",
       "      <td>Post Leaving Certificate</td>\n",
       "      <td>male</td>\n",
       "      <td>Employed</td>\n",
       "    </tr>\n",
       "    <tr>\n",
       "      <th>11</th>\n",
       "      <td>34</td>\n",
       "      <td>Post Leaving Certificate</td>\n",
       "      <td>female</td>\n",
       "      <td>Employed</td>\n",
       "    </tr>\n",
       "    <tr>\n",
       "      <th>12</th>\n",
       "      <td>54</td>\n",
       "      <td>Higher Secondary</td>\n",
       "      <td>male</td>\n",
       "      <td>Employed</td>\n",
       "    </tr>\n",
       "    <tr>\n",
       "      <th>13</th>\n",
       "      <td>44</td>\n",
       "      <td>Third Level</td>\n",
       "      <td>male</td>\n",
       "      <td>Employed</td>\n",
       "    </tr>\n",
       "    <tr>\n",
       "      <th>14</th>\n",
       "      <td>45</td>\n",
       "      <td>Post Leaving Certificate</td>\n",
       "      <td>female</td>\n",
       "      <td>Employed</td>\n",
       "    </tr>\n",
       "    <tr>\n",
       "      <th>15</th>\n",
       "      <td>46</td>\n",
       "      <td>Third Level</td>\n",
       "      <td>male</td>\n",
       "      <td>Employed</td>\n",
       "    </tr>\n",
       "    <tr>\n",
       "      <th>16</th>\n",
       "      <td>37</td>\n",
       "      <td>Third Level</td>\n",
       "      <td>female</td>\n",
       "      <td>Employed</td>\n",
       "    </tr>\n",
       "    <tr>\n",
       "      <th>17</th>\n",
       "      <td>57</td>\n",
       "      <td>Higher Secondary</td>\n",
       "      <td>female</td>\n",
       "      <td>Employed</td>\n",
       "    </tr>\n",
       "    <tr>\n",
       "      <th>18</th>\n",
       "      <td>37</td>\n",
       "      <td>Third Level</td>\n",
       "      <td>female</td>\n",
       "      <td>Unemployed</td>\n",
       "    </tr>\n",
       "    <tr>\n",
       "      <th>19</th>\n",
       "      <td>40</td>\n",
       "      <td>Higher Secondary</td>\n",
       "      <td>female</td>\n",
       "      <td>Employed</td>\n",
       "    </tr>\n",
       "    <tr>\n",
       "      <th>20</th>\n",
       "      <td>37</td>\n",
       "      <td>Higher Secondary</td>\n",
       "      <td>female</td>\n",
       "      <td>Employed</td>\n",
       "    </tr>\n",
       "    <tr>\n",
       "      <th>21</th>\n",
       "      <td>29</td>\n",
       "      <td>Lower Secondary</td>\n",
       "      <td>female</td>\n",
       "      <td>Employed</td>\n",
       "    </tr>\n",
       "    <tr>\n",
       "      <th>22</th>\n",
       "      <td>55</td>\n",
       "      <td>Primary Level</td>\n",
       "      <td>male</td>\n",
       "      <td>Employed</td>\n",
       "    </tr>\n",
       "    <tr>\n",
       "      <th>23</th>\n",
       "      <td>58</td>\n",
       "      <td>Third Level</td>\n",
       "      <td>male</td>\n",
       "      <td>Employed</td>\n",
       "    </tr>\n",
       "    <tr>\n",
       "      <th>24</th>\n",
       "      <td>54</td>\n",
       "      <td>Higher Secondary</td>\n",
       "      <td>male</td>\n",
       "      <td>Employed</td>\n",
       "    </tr>\n",
       "    <tr>\n",
       "      <th>25</th>\n",
       "      <td>59</td>\n",
       "      <td>Higher Secondary</td>\n",
       "      <td>male</td>\n",
       "      <td>Employed</td>\n",
       "    </tr>\n",
       "    <tr>\n",
       "      <th>26</th>\n",
       "      <td>47</td>\n",
       "      <td>Third Level</td>\n",
       "      <td>male</td>\n",
       "      <td>Employed</td>\n",
       "    </tr>\n",
       "    <tr>\n",
       "      <th>27</th>\n",
       "      <td>57</td>\n",
       "      <td>Higher Secondary</td>\n",
       "      <td>female</td>\n",
       "      <td>Employed</td>\n",
       "    </tr>\n",
       "    <tr>\n",
       "      <th>28</th>\n",
       "      <td>41</td>\n",
       "      <td>Third Level</td>\n",
       "      <td>female</td>\n",
       "      <td>Employed</td>\n",
       "    </tr>\n",
       "    <tr>\n",
       "      <th>29</th>\n",
       "      <td>31</td>\n",
       "      <td>Higher Secondary</td>\n",
       "      <td>female</td>\n",
       "      <td>Employed</td>\n",
       "    </tr>\n",
       "    <tr>\n",
       "      <th>30</th>\n",
       "      <td>53</td>\n",
       "      <td>Lower Secondary</td>\n",
       "      <td>female</td>\n",
       "      <td>Employed</td>\n",
       "    </tr>\n",
       "    <tr>\n",
       "      <th>31</th>\n",
       "      <td>62</td>\n",
       "      <td>Post Leaving Certificate</td>\n",
       "      <td>female</td>\n",
       "      <td>Employed</td>\n",
       "    </tr>\n",
       "    <tr>\n",
       "      <th>32</th>\n",
       "      <td>63</td>\n",
       "      <td>Third Level</td>\n",
       "      <td>male</td>\n",
       "      <td>Employed</td>\n",
       "    </tr>\n",
       "    <tr>\n",
       "      <th>33</th>\n",
       "      <td>25</td>\n",
       "      <td>Third Level</td>\n",
       "      <td>female</td>\n",
       "      <td>Employed</td>\n",
       "    </tr>\n",
       "    <tr>\n",
       "      <th>34</th>\n",
       "      <td>39</td>\n",
       "      <td>Third Level</td>\n",
       "      <td>female</td>\n",
       "      <td>Employed</td>\n",
       "    </tr>\n",
       "    <tr>\n",
       "      <th>35</th>\n",
       "      <td>42</td>\n",
       "      <td>Third Level</td>\n",
       "      <td>female</td>\n",
       "      <td>Employed</td>\n",
       "    </tr>\n",
       "    <tr>\n",
       "      <th>36</th>\n",
       "      <td>48</td>\n",
       "      <td>Higher Secondary</td>\n",
       "      <td>female</td>\n",
       "      <td>Employed</td>\n",
       "    </tr>\n",
       "    <tr>\n",
       "      <th>37</th>\n",
       "      <td>49</td>\n",
       "      <td>Higher Secondary</td>\n",
       "      <td>female</td>\n",
       "      <td>Employed</td>\n",
       "    </tr>\n",
       "    <tr>\n",
       "      <th>38</th>\n",
       "      <td>47</td>\n",
       "      <td>Third Level</td>\n",
       "      <td>male</td>\n",
       "      <td>Employed</td>\n",
       "    </tr>\n",
       "    <tr>\n",
       "      <th>39</th>\n",
       "      <td>44</td>\n",
       "      <td>Higher Secondary</td>\n",
       "      <td>female</td>\n",
       "      <td>Employed</td>\n",
       "    </tr>\n",
       "    <tr>\n",
       "      <th>40</th>\n",
       "      <td>46</td>\n",
       "      <td>Higher Secondary</td>\n",
       "      <td>male</td>\n",
       "      <td>Employed</td>\n",
       "    </tr>\n",
       "    <tr>\n",
       "      <th>41</th>\n",
       "      <td>50</td>\n",
       "      <td>Third Level</td>\n",
       "      <td>female</td>\n",
       "      <td>Employed</td>\n",
       "    </tr>\n",
       "    <tr>\n",
       "      <th>42</th>\n",
       "      <td>38</td>\n",
       "      <td>Lower Secondary</td>\n",
       "      <td>female</td>\n",
       "      <td>Employed</td>\n",
       "    </tr>\n",
       "    <tr>\n",
       "      <th>43</th>\n",
       "      <td>64</td>\n",
       "      <td>Post Leaving Certificate</td>\n",
       "      <td>male</td>\n",
       "      <td>Employed</td>\n",
       "    </tr>\n",
       "    <tr>\n",
       "      <th>44</th>\n",
       "      <td>38</td>\n",
       "      <td>Lower Secondary</td>\n",
       "      <td>male</td>\n",
       "      <td>Employed</td>\n",
       "    </tr>\n",
       "    <tr>\n",
       "      <th>45</th>\n",
       "      <td>42</td>\n",
       "      <td>Third Level</td>\n",
       "      <td>male</td>\n",
       "      <td>Employed</td>\n",
       "    </tr>\n",
       "    <tr>\n",
       "      <th>46</th>\n",
       "      <td>56</td>\n",
       "      <td>Third Level</td>\n",
       "      <td>male</td>\n",
       "      <td>Employed</td>\n",
       "    </tr>\n",
       "    <tr>\n",
       "      <th>47</th>\n",
       "      <td>48</td>\n",
       "      <td>Primary Level</td>\n",
       "      <td>male</td>\n",
       "      <td>Employed</td>\n",
       "    </tr>\n",
       "    <tr>\n",
       "      <th>48</th>\n",
       "      <td>46</td>\n",
       "      <td>Lower Secondary</td>\n",
       "      <td>male</td>\n",
       "      <td>Employed</td>\n",
       "    </tr>\n",
       "    <tr>\n",
       "      <th>49</th>\n",
       "      <td>42</td>\n",
       "      <td>Lower Secondary</td>\n",
       "      <td>female</td>\n",
       "      <td>Employed</td>\n",
       "    </tr>\n",
       "    <tr>\n",
       "      <th>50</th>\n",
       "      <td>47</td>\n",
       "      <td>Post Leaving Certificate</td>\n",
       "      <td>male</td>\n",
       "      <td>Employed</td>\n",
       "    </tr>\n",
       "    <tr>\n",
       "      <th>51</th>\n",
       "      <td>27</td>\n",
       "      <td>Third Level</td>\n",
       "      <td>male</td>\n",
       "      <td>Unemployed</td>\n",
       "    </tr>\n",
       "    <tr>\n",
       "      <th>52</th>\n",
       "      <td>61</td>\n",
       "      <td>Primary Level</td>\n",
       "      <td>male</td>\n",
       "      <td>Employed</td>\n",
       "    </tr>\n",
       "    <tr>\n",
       "      <th>53</th>\n",
       "      <td>39</td>\n",
       "      <td>Third Level</td>\n",
       "      <td>female</td>\n",
       "      <td>Employed</td>\n",
       "    </tr>\n",
       "    <tr>\n",
       "      <th>54</th>\n",
       "      <td>44</td>\n",
       "      <td>Third Level</td>\n",
       "      <td>male</td>\n",
       "      <td>Employed</td>\n",
       "    </tr>\n",
       "    <tr>\n",
       "      <th>55</th>\n",
       "      <td>50</td>\n",
       "      <td>Third Level</td>\n",
       "      <td>male</td>\n",
       "      <td>Employed</td>\n",
       "    </tr>\n",
       "    <tr>\n",
       "      <th>56</th>\n",
       "      <td>38</td>\n",
       "      <td>Higher Secondary</td>\n",
       "      <td>male</td>\n",
       "      <td>Employed</td>\n",
       "    </tr>\n",
       "    <tr>\n",
       "      <th>57</th>\n",
       "      <td>53</td>\n",
       "      <td>Lower Secondary</td>\n",
       "      <td>male</td>\n",
       "      <td>Employed</td>\n",
       "    </tr>\n",
       "    <tr>\n",
       "      <th>58</th>\n",
       "      <td>29</td>\n",
       "      <td>Third Level</td>\n",
       "      <td>female</td>\n",
       "      <td>Employed</td>\n",
       "    </tr>\n",
       "    <tr>\n",
       "      <th>59</th>\n",
       "      <td>39</td>\n",
       "      <td>Third Level</td>\n",
       "      <td>female</td>\n",
       "      <td>Unemployed</td>\n",
       "    </tr>\n",
       "    <tr>\n",
       "      <th>60</th>\n",
       "      <td>27</td>\n",
       "      <td>Post Leaving Certificate</td>\n",
       "      <td>male</td>\n",
       "      <td>Employed</td>\n",
       "    </tr>\n",
       "    <tr>\n",
       "      <th>61</th>\n",
       "      <td>39</td>\n",
       "      <td>Third Level</td>\n",
       "      <td>female</td>\n",
       "      <td>Employed</td>\n",
       "    </tr>\n",
       "    <tr>\n",
       "      <th>62</th>\n",
       "      <td>62</td>\n",
       "      <td>Third Level</td>\n",
       "      <td>male</td>\n",
       "      <td>Employed</td>\n",
       "    </tr>\n",
       "    <tr>\n",
       "      <th>63</th>\n",
       "      <td>29</td>\n",
       "      <td>Lower Secondary</td>\n",
       "      <td>female</td>\n",
       "      <td>Employed</td>\n",
       "    </tr>\n",
       "    <tr>\n",
       "      <th>64</th>\n",
       "      <td>60</td>\n",
       "      <td>Third Level</td>\n",
       "      <td>male</td>\n",
       "      <td>Unemployed</td>\n",
       "    </tr>\n",
       "    <tr>\n",
       "      <th>65</th>\n",
       "      <td>59</td>\n",
       "      <td>Post Leaving Certificate</td>\n",
       "      <td>male</td>\n",
       "      <td>Employed</td>\n",
       "    </tr>\n",
       "    <tr>\n",
       "      <th>66</th>\n",
       "      <td>30</td>\n",
       "      <td>Higher Secondary</td>\n",
       "      <td>male</td>\n",
       "      <td>Employed</td>\n",
       "    </tr>\n",
       "    <tr>\n",
       "      <th>67</th>\n",
       "      <td>63</td>\n",
       "      <td>Third Level</td>\n",
       "      <td>male</td>\n",
       "      <td>Employed</td>\n",
       "    </tr>\n",
       "    <tr>\n",
       "      <th>68</th>\n",
       "      <td>58</td>\n",
       "      <td>Higher Secondary</td>\n",
       "      <td>female</td>\n",
       "      <td>Employed</td>\n",
       "    </tr>\n",
       "    <tr>\n",
       "      <th>69</th>\n",
       "      <td>49</td>\n",
       "      <td>Third Level</td>\n",
       "      <td>female</td>\n",
       "      <td>Employed</td>\n",
       "    </tr>\n",
       "    <tr>\n",
       "      <th>70</th>\n",
       "      <td>60</td>\n",
       "      <td>Higher Secondary</td>\n",
       "      <td>female</td>\n",
       "      <td>Employed</td>\n",
       "    </tr>\n",
       "    <tr>\n",
       "      <th>71</th>\n",
       "      <td>52</td>\n",
       "      <td>Third Level</td>\n",
       "      <td>male</td>\n",
       "      <td>Employed</td>\n",
       "    </tr>\n",
       "    <tr>\n",
       "      <th>72</th>\n",
       "      <td>48</td>\n",
       "      <td>Third Level</td>\n",
       "      <td>female</td>\n",
       "      <td>Employed</td>\n",
       "    </tr>\n",
       "    <tr>\n",
       "      <th>73</th>\n",
       "      <td>26</td>\n",
       "      <td>Higher Secondary</td>\n",
       "      <td>male</td>\n",
       "      <td>Employed</td>\n",
       "    </tr>\n",
       "    <tr>\n",
       "      <th>74</th>\n",
       "      <td>54</td>\n",
       "      <td>Third Level</td>\n",
       "      <td>male</td>\n",
       "      <td>Unemployed</td>\n",
       "    </tr>\n",
       "    <tr>\n",
       "      <th>75</th>\n",
       "      <td>25</td>\n",
       "      <td>Third Level</td>\n",
       "      <td>male</td>\n",
       "      <td>Employed</td>\n",
       "    </tr>\n",
       "    <tr>\n",
       "      <th>76</th>\n",
       "      <td>48</td>\n",
       "      <td>Third Level</td>\n",
       "      <td>female</td>\n",
       "      <td>Employed</td>\n",
       "    </tr>\n",
       "    <tr>\n",
       "      <th>77</th>\n",
       "      <td>39</td>\n",
       "      <td>Lower Secondary</td>\n",
       "      <td>female</td>\n",
       "      <td>Employed</td>\n",
       "    </tr>\n",
       "    <tr>\n",
       "      <th>78</th>\n",
       "      <td>37</td>\n",
       "      <td>Primary Level</td>\n",
       "      <td>male</td>\n",
       "      <td>Employed</td>\n",
       "    </tr>\n",
       "    <tr>\n",
       "      <th>79</th>\n",
       "      <td>63</td>\n",
       "      <td>Higher Secondary</td>\n",
       "      <td>female</td>\n",
       "      <td>Employed</td>\n",
       "    </tr>\n",
       "    <tr>\n",
       "      <th>80</th>\n",
       "      <td>38</td>\n",
       "      <td>Higher Secondary</td>\n",
       "      <td>female</td>\n",
       "      <td>Employed</td>\n",
       "    </tr>\n",
       "    <tr>\n",
       "      <th>81</th>\n",
       "      <td>44</td>\n",
       "      <td>Post Leaving Certificate</td>\n",
       "      <td>male</td>\n",
       "      <td>Employed</td>\n",
       "    </tr>\n",
       "    <tr>\n",
       "      <th>82</th>\n",
       "      <td>58</td>\n",
       "      <td>Higher Secondary</td>\n",
       "      <td>male</td>\n",
       "      <td>Employed</td>\n",
       "    </tr>\n",
       "    <tr>\n",
       "      <th>83</th>\n",
       "      <td>42</td>\n",
       "      <td>Post Leaving Certificate</td>\n",
       "      <td>female</td>\n",
       "      <td>Employed</td>\n",
       "    </tr>\n",
       "    <tr>\n",
       "      <th>84</th>\n",
       "      <td>49</td>\n",
       "      <td>Higher Secondary</td>\n",
       "      <td>male</td>\n",
       "      <td>Employed</td>\n",
       "    </tr>\n",
       "    <tr>\n",
       "      <th>85</th>\n",
       "      <td>32</td>\n",
       "      <td>Post Leaving Certificate</td>\n",
       "      <td>male</td>\n",
       "      <td>Employed</td>\n",
       "    </tr>\n",
       "    <tr>\n",
       "      <th>86</th>\n",
       "      <td>28</td>\n",
       "      <td>Third Level</td>\n",
       "      <td>female</td>\n",
       "      <td>Unemployed</td>\n",
       "    </tr>\n",
       "    <tr>\n",
       "      <th>87</th>\n",
       "      <td>64</td>\n",
       "      <td>Third Level</td>\n",
       "      <td>female</td>\n",
       "      <td>Employed</td>\n",
       "    </tr>\n",
       "    <tr>\n",
       "      <th>88</th>\n",
       "      <td>49</td>\n",
       "      <td>Third Level</td>\n",
       "      <td>female</td>\n",
       "      <td>Employed</td>\n",
       "    </tr>\n",
       "    <tr>\n",
       "      <th>89</th>\n",
       "      <td>30</td>\n",
       "      <td>Third Level</td>\n",
       "      <td>male</td>\n",
       "      <td>Employed</td>\n",
       "    </tr>\n",
       "    <tr>\n",
       "      <th>90</th>\n",
       "      <td>48</td>\n",
       "      <td>Third Level</td>\n",
       "      <td>female</td>\n",
       "      <td>Employed</td>\n",
       "    </tr>\n",
       "    <tr>\n",
       "      <th>91</th>\n",
       "      <td>35</td>\n",
       "      <td>Third Level</td>\n",
       "      <td>male</td>\n",
       "      <td>Employed</td>\n",
       "    </tr>\n",
       "    <tr>\n",
       "      <th>92</th>\n",
       "      <td>33</td>\n",
       "      <td>Lower Secondary</td>\n",
       "      <td>male</td>\n",
       "      <td>Employed</td>\n",
       "    </tr>\n",
       "    <tr>\n",
       "      <th>93</th>\n",
       "      <td>30</td>\n",
       "      <td>Post Leaving Certificate</td>\n",
       "      <td>female</td>\n",
       "      <td>Employed</td>\n",
       "    </tr>\n",
       "    <tr>\n",
       "      <th>94</th>\n",
       "      <td>44</td>\n",
       "      <td>Post Leaving Certificate</td>\n",
       "      <td>female</td>\n",
       "      <td>Employed</td>\n",
       "    </tr>\n",
       "    <tr>\n",
       "      <th>95</th>\n",
       "      <td>43</td>\n",
       "      <td>Higher Secondary</td>\n",
       "      <td>female</td>\n",
       "      <td>Employed</td>\n",
       "    </tr>\n",
       "    <tr>\n",
       "      <th>96</th>\n",
       "      <td>28</td>\n",
       "      <td>Higher Secondary</td>\n",
       "      <td>female</td>\n",
       "      <td>Employed</td>\n",
       "    </tr>\n",
       "    <tr>\n",
       "      <th>97</th>\n",
       "      <td>35</td>\n",
       "      <td>Third Level</td>\n",
       "      <td>female</td>\n",
       "      <td>Employed</td>\n",
       "    </tr>\n",
       "    <tr>\n",
       "      <th>98</th>\n",
       "      <td>58</td>\n",
       "      <td>Third Level</td>\n",
       "      <td>male</td>\n",
       "      <td>Employed</td>\n",
       "    </tr>\n",
       "    <tr>\n",
       "      <th>99</th>\n",
       "      <td>31</td>\n",
       "      <td>Higher Secondary</td>\n",
       "      <td>female</td>\n",
       "      <td>Employed</td>\n",
       "    </tr>\n",
       "  </tbody>\n",
       "</table>"
      ],
      "text/plain": [
       "<IPython.core.display.HTML object>"
      ]
     },
     "metadata": {},
     "output_type": "display_data"
    }
   ],
   "source": [
    "from IPython.display import display, HTML \n",
    "#(16) https://stackoverflow.com/questions/26873127/show-dataframe-as-table-in-ipython-notebook)\n",
    "merged = pd.concat([age_df, education_level_df, gender_df, employment_df], axis=1)\n",
    "#using pd.concat to merge all dataframes into one\n",
    "merged_df = pd.DataFrame(merged)#Creating the dataframe the merged data\n",
    "merged_df.to_csv(\"merged_df.csv\") # #save dataset as to a csv file with the notebook(17) \n",
    "display(HTML(merged_df.to_html()))#displaying the merged dataframe using the toggle function."
   ]
  },
  {
   "cell_type": "markdown",
   "metadata": {},
   "source": [
    " <a id='section2.3'></a>\n",
    "### 2.3: Distributions in the Dataframe"
   ]
  },
  {
   "cell_type": "markdown",
   "metadata": {},
   "source": [
    "The section will visualise the distributions of each of the variables that exist with ithe dataset. This provides an insight in the amount of times a value occurs in each variable [**(18)**](#ref18). "
   ]
  },
  {
   "cell_type": "markdown",
   "metadata": {},
   "source": [
    "#### Age"
   ]
  },
  {
   "cell_type": "markdown",
   "metadata": {},
   "source": [
    "The below countplot displays the age distribution for the whole dataset indication the most and lest frequent ages in the dataset."
   ]
  },
  {
   "cell_type": "code",
   "execution_count": 11,
   "metadata": {
    "scrolled": false
   },
   "outputs": [
    {
     "data": {
      "text/plain": [
       "<matplotlib.axes._subplots.AxesSubplot at 0x233b6d53fd0>"
      ]
     },
     "execution_count": 11,
     "metadata": {},
     "output_type": "execute_result"
    },
    {
     "data": {
      "image/png": "[encoded data removed]",
      "text/plain": [
       "<Figure size 1152x432 with 1 Axes>"
      ]
     },
     "metadata": {
      "needs_background": "light"
     },
     "output_type": "display_data"
    }
   ],
   "source": [
    "plt.figure(figsize=(16, 6)) # etting the size of the plot\n",
    "plt.title(\"Age Profile\") #Title for the plot\n",
    "sns.countplot('Age', data= age_df) # Inputting the parameters"
   ]
  },
  {
   "cell_type": "code",
   "execution_count": 12,
   "metadata": {
    "scrolled": true
   },
   "outputs": [
    {
     "name": "stderr",
     "output_type": "stream",
     "text": [
      "C:\\Users\\Owner1\\Anaconda3\\lib\\site-packages\\scipy\\stats\\stats.py:1713: FutureWarning: Using a non-tuple sequence for multidimensional indexing is deprecated; use `arr[tuple(seq)]` instead of `arr[seq]`. In the future this will be interpreted as an array index, `arr[np.array(seq)]`, which will result either in an error or a different result.\n",
      "  return np.add.reduce(sorted[indexer] * weights, axis=axis) / sumval\n"
     ]
    },
    {
     "data": {
      "image/png": "[encoded data removed]",
      "text/plain": [
       "<Figure size 1152x432 with 1 Axes>"
      ]
     },
     "metadata": {},
     "output_type": "display_data"
    }
   ],
   "source": [
    "sns.set(rc={\"figure.figsize\": (16, 6)})\n",
    "ax = sns.distplot(age_df)\n",
    "plt.title(\"Age Distribution\") # Title for the graph\n",
    "plt.xlabel(\"Age\") # X-Axis labelling\n",
    "plt.ylabel(\" Number of People\") # Y-Axis labelling\n",
    "plt.show()"
   ]
  },
  {
   "cell_type": "markdown",
   "metadata": {},
   "source": [
    "As the Age variable was left completely random it is expected that the output would be relatively uniform which can be seen in the above plot which has more than one peak that are not overly distinct which may indicate two unimodal distributions [**(19)**](#ref19), [**(20)**](#ref20)"
   ]
  },
  {
   "cell_type": "markdown",
   "metadata": {},
   "source": [
    "#### Educational Attainment"
   ]
  },
  {
   "cell_type": "code",
   "execution_count": 13,
   "metadata": {
    "scrolled": false
   },
   "outputs": [
    {
     "data": {
      "image/png": "[encoded data removed]",
      "text/plain": [
       "<Figure size 864x288 with 1 Axes>"
      ]
     },
     "metadata": {},
     "output_type": "display_data"
    }
   ],
   "source": [
    "sns.set(rc={\"figure.figsize\": (12,4 )})\n",
    "ax = sns.countplot(x ='Education Level',\n",
    "                   data = education_level_df, \n",
    "                   order=[\"Primary Level\", \"Lower Secondary\", \"Higher Secondary\",\"Post Leaving Certificate\",\"Third Level\"])\n",
    "plt.title(\"Highest level of Education attained\") #Title for the plot\n",
    "plt.xlabel(\"Levels of Education\") # Label X-axis\n",
    "plt.ylabel(\"Number of People\") # Label Y- axis\n",
    "plt.show()"
   ]
  },
  {
   "cell_type": "markdown",
   "metadata": {},
   "source": [
    "The above bar chart outlines the counts of each individual's educational attainment based on the probability parameters set as given in the Thematic Report. As the levels of education increase as do the numbers of completion with the exception of Post Leaving Certificate due to the nature of Post Leaving Certificate being an alternative pathway to employment or third level education."
   ]
  },
  {
   "cell_type": "markdown",
   "metadata": {},
   "source": [
    "#### Gender"
   ]
  },
  {
   "cell_type": "markdown",
   "metadata": {},
   "source": [
    "The below barchart demonstrates the breakdown of male to female in the dataset. The females account for slightly more data points compared to male, similiar to the current rate in Ireland."
   ]
  },
  {
   "cell_type": "code",
   "execution_count": 14,
   "metadata": {},
   "outputs": [
    {
     "data": {
      "text/plain": [
       "<matplotlib.axes._subplots.AxesSubplot at 0x233b727ae10>"
      ]
     },
     "execution_count": 14,
     "metadata": {},
     "output_type": "execute_result"
    },
    {
     "data": {
      "image/png": "[encoded data removed]",
      "text/plain": [
       "<Figure size 576x360 with 1 Axes>"
      ]
     },
     "metadata": {},
     "output_type": "display_data"
    }
   ],
   "source": [
    "plt.figure(figsize=(8,5)) # setting the size of the plot\n",
    "sns.countplot('Gender', data= gender_df) # Inputting the variables\n",
    "plt.title(\"Gender Breakdown\") #Title for the plot"
   ]
  },
  {
   "cell_type": "markdown",
   "metadata": {},
   "source": [
    "#### Employment Status"
   ]
  },
  {
   "cell_type": "markdown",
   "metadata": {},
   "source": [
    "The below countplot looks at the employment breakdown, based on the employment rate of 4.2% indicated earlier."
   ]
  },
  {
   "cell_type": "code",
   "execution_count": 15,
   "metadata": {},
   "outputs": [
    {
     "data": {
      "text/plain": [
       "<matplotlib.axes._subplots.AxesSubplot at 0x233b70a2908>"
      ]
     },
     "execution_count": 15,
     "metadata": {},
     "output_type": "execute_result"
    },
    {
     "data": {
      "image/png": "[encoded data removed]",
      "text/plain": [
       "<Figure size 576x360 with 1 Axes>"
      ]
     },
     "metadata": {},
     "output_type": "display_data"
    }
   ],
   "source": [
    "plt.figure(figsize=(8,5)) #setting the size of the plot\n",
    "sns.countplot('Employment Status', data= employment_df) # Inputting the variables and displaying the count."
   ]
  },
  {
   "cell_type": "markdown",
   "metadata": {},
   "source": [
    "<a id='section2.4'></a>\n",
    "### 2.4: Relationships between the variables"
   ]
  },
  {
   "cell_type": "markdown",
   "metadata": {},
   "source": [
    "In this section, the relationships between the education attainment and the likelihood of employment in the dataset is explored and analysed through the following relationships: \n",
    "\n",
    "- The employment rates amongst males and females\n",
    "- The employment rates by their educational attainment level\n",
    "- The educational attainment level amongst males and females who are both employed and unemployed"
   ]
  },
  {
   "cell_type": "markdown",
   "metadata": {},
   "source": [
    "#### Investigation 1: Employment Status amongst males and females"
   ]
  },
  {
   "cell_type": "markdown",
   "metadata": {},
   "source": [
    "According the dataset is is equally likely for the male and females, included in the dataset, to be employed but there are more unemployed males than females. "
   ]
  },
  {
   "cell_type": "code",
   "execution_count": 16,
   "metadata": {
    "scrolled": true
   },
   "outputs": [
    {
     "data": {
      "image/png": "[encoded data removed]",
      "text/plain": [
       "<Figure size 576x360 with 1 Axes>"
      ]
     },
     "metadata": {},
     "output_type": "display_data"
    }
   ],
   "source": [
    "sns.set(rc={\"figure.figsize\": (8, 5)})\n",
    "sns.countplot(\"Employment Status\", hue='Gender', data= merged_df )\n",
    "sns.set_palette(\"pastel\")"
   ]
  },
  {
   "cell_type": "markdown",
   "metadata": {},
   "source": [
    "#### Investigation 2: The highest level of education amongst males and females. "
   ]
  },
  {
   "cell_type": "code",
   "execution_count": 27,
   "metadata": {
    "scrolled": false
   },
   "outputs": [
    {
     "data": {
      "image/png": "[encoded data removed]",
      "text/plain": [
       "<Figure size 1152x432 with 1 Axes>"
      ]
     },
     "metadata": {},
     "output_type": "display_data"
    }
   ],
   "source": [
    "plt.figure(figsize=(16, 6))\n",
    "sns.countplot(x = \"Gender\", hue='Education Level',  data= merged_df)\n",
    "sns.set_palette(\"pastel\")"
   ]
  },
  {
   "cell_type": "markdown",
   "metadata": {},
   "source": [
    "Developing from the previousl plot whereby there are more males unemployed than females, this plot explores the types of education attained by the sample. Third Level completion is highest for both genders. Interestingly, the biggest difference lie within the secondary education variables. While more females completed Lower Secndary than males, males then were more likely to complete Higher Secondary than females. There are similiar amounts of males and females in the sample that hoave completed Primary Level only. "
   ]
  },
  {
   "cell_type": "markdown",
   "metadata": {},
   "source": [
    "### Investigation 3: The employment status across education levels by male and female."
   ]
  },
  {
   "cell_type": "code",
   "execution_count": 26,
   "metadata": {},
   "outputs": [
    {
     "data": {
      "text/plain": [
       "<Figure size 1152x288 with 0 Axes>"
      ]
     },
     "metadata": {},
     "output_type": "display_data"
    },
    {
     "data": {
      "image/png": "[encoded data removed]",
      "text/plain": [
       "<Figure size 876.1x360 with 2 Axes>"
      ]
     },
     "metadata": {},
     "output_type": "display_data"
    }
   ],
   "source": [
    "plt.figure(figsize=(16, 4))\n",
    "sns.catplot(x=\"Gender\",y=\"Age\", hue=\"Education Level\", col=\"Employment Status\",data=merged_df,kind=\"box\")\n",
    "\n",
    "plt.show()"
   ]
  },
  {
   "cell_type": "markdown",
   "metadata": {},
   "source": [
    "The above boxplot is demonstrating the gender breakdown of the sample through their level of education and by the employment status. Investigating the four variables in the collected data set gives an insight into the relationships that may potentially exist. \n",
    "\n",
    "From the boxplot, the following can be observed:\n",
    "  - There are no outliers contained within the dataset\n",
    "  - The majority of the unemployed have attained a Third Level Education\n",
    "  - All the females have completed Primary Level Education\n",
    "  - The age range of male and female who have completed Third Level Education had the largest spread\n",
    "      "
   ]
  },
  {
   "cell_type": "markdown",
   "metadata": {},
   "source": [
    "## Conclusion:"
   ]
  },
  {
   "cell_type": "markdown",
   "metadata": {},
   "source": [
    "Within this dataset, the relationship between educational attainment and employment status was explored using parameters based on recent statistics in Ireland. While in general the outputted data replicated the national data from the Central Statistics Data, there was some descrepencies.These descrepencies must be considered in light of the size of the dataset which may impede on generalisation. \n",
    "\n",
    "However, synthesising the data is still a useful method of identifying key relationship between varilables such as the Third Level Education and number of unemployed people as seen in the analysis. "
   ]
  },
  {
   "cell_type": "markdown",
   "metadata": {},
   "source": [
    "<a id='ref'></a>\n",
    "## References:"
   ]
  },
  {
   "cell_type": "markdown",
   "metadata": {},
   "source": [
    "<a id='ref1'></a>\n",
    "1.\thttps://www.oecd-ilibrary.org/docserver/eag_highlights-2012-11-en.pdf?expires=1575233714&id=id&accname=guest&checksum=6E048A8FBA5F60213205266CDAA4CE07 http://www.welfare.ie/en/Pages/Chapter-3_-Risk-and-Protection-for-Children.aspx<br>\n",
    "<a id='ref2'></a>\n",
    "2.\t https://www.citizensinformation.ie/en/education/the_irish_education_system/overview_of_the_irish_education_system.html\n",
    "<a id='ref3'></a>\n",
    "3.\thttps://www.cso.ie/en/statistics/labourmarket/monthlyunemployment/<br>\n",
    "<a id='ref4'></a>\n",
    "4.\thttp://www.welfare.ie/en/Pages/Chapter-3_-Risk-and-Protection-for-Children.aspx.<br>\n",
    "<a id='ref5'></a>\n",
    "5.\thttp://publicpolicy.ie/papers/education-and-employment-a-review-of-educational-attainment-and-labour-market-outcomes/<br>\n",
    "<a id='ref6'></a>\n",
    "6.\thttps://pdf.cso.ie/www/pdf/20191203081521_Monthly_Unemployment_November_2019_summary.pdf<br>\n",
    "<a id='ref7'></a>\n",
    "7.\thttps://www.cso.ie/en/releasesandpublications/er/eda/educationalattainmentthematicreport2019/\n",
    " <br>\n",
    "<a id='ref8'></a>\n",
    "8.\thttps://www.sharpsightlabs.com/blog/numpy-random-seed<br>\n",
    "<a id='ref9'></a>\n",
    "9.\thttps://www.geeksforgeeks.org/random-sampling-in-numpy-randint-function<br>\n",
    "<a id='ref10'></a>\n",
    "10.\thttps://stackoverflow.com/questions/46994426/how-to-round-numpy-array<br>\n",
    "<a id='ref11'></a>\n",
    "11. https://cnx.org/contents/bE-w34Vi@9/Descriptive-Statistics-Skewness-and-the-Mean-Median-and-Mode<br>\n",
    "<a id='ref12'></a>\n",
    "12. https://docs.scipy.org/doc/numpy-1.15.0/reference/generated/numpy.random.choice.html<br>\n",
    "<a id='ref13'></a>\n",
    "13. http://worldpopulationreview.com/countries/ireland-population<br>\n",
    "<a id='ref14'></a>\n",
    "14. https://www.cso.ie/en/releasesandpublications/er/mue/monthlyunemploymentnovember2019/<br>\n",
    "<a id='ref15'></a>\n",
    "15. https://pandas.pydata.org/pandas-docs/stable/user_guide/merging.html<br>\n",
    "<a id='ref16'></a>\n",
    "16. https://www.dataquest.io/blog/pandas-cheat-sheet/<br>\n",
    "<a id='ref17'></a>\n",
    "17. http://people.stern.nyu.edu/adamodar/New_Home_Page/StatFile/statdistns.htm<br>\n",
    "<a id='ref18'></a>\n",
    "18. https://www.statisticshowto.datasciencecentral.com/what-is-a-bimodal-distribution/<br>\n",
    "<a id='ref19'></a>\n",
    "19. https://pythonbasics.org/seaborn-distplot<br>\n",
    "<a id='ref20'></a>"
   ]
  },
  {
   "cell_type": "code",
   "execution_count": null,
   "metadata": {},
   "outputs": [],
   "source": []
  }
 ],
 "metadata": {
  "kernelspec": {
   "display_name": "Python 3",
   "language": "python",
   "name": "python3"
  },
  "language_info": {
   "codemirror_mode": {
    "name": "ipython",
    "version": 3
   },
   "file_extension": ".py",
   "mimetype": "text/x-python",
   "name": "python",
   "nbconvert_exporter": "python",
   "pygments_lexer": "ipython3",
   "version": "3.7.1"
  }
 },
 "nbformat": 4,
 "nbformat_minor": 2
}

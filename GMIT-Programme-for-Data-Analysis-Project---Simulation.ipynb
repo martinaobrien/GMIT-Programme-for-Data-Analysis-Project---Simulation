{
 "cells": [
  {
   "cell_type": "markdown",
   "metadata": {},
   "source": [
    "# Programme for Data Analysis: Simulating a Real World Phenomenon"
   ]
  },
  {
   "cell_type": "markdown",
   "metadata": {},
   "source": [
    "## Exploring the impact of Third Level Education on Employment Attainment\n",
    "### GMIT Higher Diploma \n",
    "### Programming for Data Analytics\n",
    "#### Author: Martina O'Brien\n",
    "#### Submissiom date: 13 December 2019<br>\n",
    "Submitted as part of the requirements for the GMIT Higher Diploma in Data Analysis as part of the module Programme for Data Analysis 2019\n",
    "\n",
    "### **Table of Contents:**<br>\n",
    "**Section 1: Introduction**:<br>\n",
    "1.1:Introduction and Background<br>\n",
    "1.2:Motivation<br>\n",
    "\n",
    "**Section 2:Modeling and Sythesising the Data:**<br>\n",
    "2.1: Setting up the dataframe<br>\n",
    "2.2: Creating Dataframe<br>\n",
    "2.3: Sythesising the Data<br>\n",
    "2.4: Weighting of Variables<br>\n",
    "2.5: Distributions in the Dataframe<br>\n",
    "2.6: Relationships between the variables<br>\n",
    "\n",
    "**Section 3: Conclusion:**<br>\n",
    "3.1: Potential areas of future explorations<br>\n",
    "\n",
    "**Section 4: References:**<br>\n",
    "4.1: References<br>\n",
    "4.2: Useful Links<br>"
   ]
  },
  {
   "cell_type": "markdown",
   "metadata": {},
   "source": [
    "##### Importing Libraries for use in the Notebook"
   ]
  },
  {
   "cell_type": "code",
   "execution_count": 1,
   "metadata": {},
   "outputs": [
    {
     "name": "stderr",
     "output_type": "stream",
     "text": [
      "UsageError: unrecognized arguments: #calling the magic command to display plots\n"
     ]
    }
   ],
   "source": [
    "#Importing Libraries needed for notebook\n",
    "import numpy as np \n",
    "import pandas as pd \n",
    "import matplotlib.pyplot as plt \n",
    "import seaborn as sns\n",
    "\n",
    "%matplotlib inline #calling the magic command to display plots"
   ]
  },
  {
   "cell_type": "markdown",
   "metadata": {},
   "source": [
    "### **Section 1: Introduction**"
   ]
  },
  {
   "cell_type": "markdown",
   "metadata": {},
   "source": [
    "#### Introduction and Background to the Real-World Phenomenon: Educational Attainment and Employment\n",
    " \n",
    "Educational attainment is well known to be a factor influencing the employment predictability of an individual https://www.oecd-ilibrary.org/docserver/eag_highlights-2012-11-en.pdf?expires=1575233714&id=id&accname=guest&checksum=6E048A8FBA5F60213205266CDAA4CE07 http://www.welfare.ie/en/Pages/Chapter-3_-Risk-and-Protection-for-Children.aspx. In Ireland, it is compulsory to attend full time education from the ages of 6  - 16 years or until the finish of 3 years of second level education or the completion of the Junior Cycle curriculum under the Education Act 2000 https://www.citizensinformation.ie/en/education/the_irish_education_system/overview_of_the_irish_education_system.html <br>\n",
    "\n",
    "While Ireland is currently reaching full employment, with only 4.8% unemployment existing.  https://www.cso.ie/en/statistics/labourmarket/monthlyunemployment/ , equal to that of in 2007 before the economic recession, http://www.welfare.ie/en/Pages/Chapter-3_-Risk-and-Protection-for-Children.aspx., unemployment and its link to educational attainment still needs to be explored. There are still considerable disparities with 12.3%  of young people currently unemployed https://tradingeconomics.com/ireland/youth-unemployment-rate. Early school leavers are particularly vulnerable to labour market isolation. http://publicpolicy.ie/papers/education-and-employment-a-review-of-educational-attainment-and-labour-market-outcomes/ <br>\n",
    "\n",
    "##### About this dataset:  <br>\n",
    "In November, 2019, the most recent Educational Attainment Thematic Report 2019 was released by the Central Statistics Office, detailing the key findings in the relationship between educational attainment and employment https://pdf.cso.ie/www/pdf/20191121085016_Educational_Attainment_Thematic_Report_2019_full.pdf. This notebook will explore the relationship between educational attainment and employment in Ireland today.\n",
    "\n",
    "The dataset will contain 200 data points over 4 variable: gender, age, educational attainment and employment.\n",
    "\n",
    "| Variable  | Type | Description |\n",
    "| --- | --- | --- |\n",
    "| Gender | Categorical | Sex - Male/Female |\n",
    "| Age | Numerical | Value between 25 and 65|\n",
    "| Educational Attainment | Categorical | Highest level of education obtained|\n",
    "|Employment | Categorical | Employment status - Yes/No|\n",
    "\n",
    "Age\tNumerical\tValue between 25  and 65 \n",
    "Educational Attainment\tCategorical\tBased on the highest level of education obtained at time of data being collected: \n",
    "Employment\tCategorical\tEmployment status of data point\n",
    "\n",
    "A dataset will be modelled on the findings of the above report insofar as possible and randomly synthesised for the purpose of this report. The weighted variables and methodology will be outlined in the next section. \n",
    "\n",
    "\n",
    "#### Motivation for this project: \n",
    "As a youth work professional in the area of youth entrepreneurship, identifying barriers for accessing education is a key aspect of the role. This project will enable me to gain some further insight into the current picture of unemployment in Ireland and the socio economic factors that may be associated with that.   "
   ]
  },
  {
   "cell_type": "markdown",
   "metadata": {},
   "source": [
    "### Section 2: Modelling and Synthesising the Data"
   ]
  },
  {
   "cell_type": "markdown",
   "metadata": {},
   "source": [
    "#### 2.1: Creating a dataframe: <br>\n",
    "\n",
    "In this section, a dataframe will be created using the numpy.random function. The data will be replicable where applicable. Firstly, the data for the variables will be created. This data is based on CSO variance on each of the four variables. <br>\n",
    "\n",
    "**Age** <br>"
   ]
  },
  {
   "cell_type": "markdown",
   "metadata": {},
   "source": [
    "Firstly, the age variable is generated. It is done by using the np.random.seed function to ensure that the data generated is the same each time the notebook is ran. Next, random ages are generated between 25 - 64 years at 200 data points. This will represent that ages withing the data set. The ages are rounded up or down to give a whole integer. Finally, the data frame is created to be used further on in the dataset."
   ]
  },
  {
   "cell_type": "code",
   "execution_count": 2,
   "metadata": {},
   "outputs": [
    {
     "data": {
      "text/html": [
       "<div>\n",
       "<style scoped>\n",
       "    .dataframe tbody tr th:only-of-type {\n",
       "        vertical-align: middle;\n",
       "    }\n",
       "\n",
       "    .dataframe tbody tr th {\n",
       "        vertical-align: top;\n",
       "    }\n",
       "\n",
       "    .dataframe thead th {\n",
       "        text-align: right;\n",
       "    }\n",
       "</style>\n",
       "<table border=\"1\" class=\"dataframe\">\n",
       "  <thead>\n",
       "    <tr style=\"text-align: right;\">\n",
       "      <th></th>\n",
       "      <th>Age</th>\n",
       "    </tr>\n",
       "  </thead>\n",
       "  <tbody>\n",
       "    <tr>\n",
       "      <th>0</th>\n",
       "      <td>44</td>\n",
       "    </tr>\n",
       "    <tr>\n",
       "      <th>1</th>\n",
       "      <td>36</td>\n",
       "    </tr>\n",
       "    <tr>\n",
       "      <th>2</th>\n",
       "      <td>26</td>\n",
       "    </tr>\n",
       "    <tr>\n",
       "      <th>3</th>\n",
       "      <td>27</td>\n",
       "    </tr>\n",
       "    <tr>\n",
       "      <th>4</th>\n",
       "      <td>40</td>\n",
       "    </tr>\n",
       "  </tbody>\n",
       "</table>\n",
       "</div>"
      ],
      "text/plain": [
       "   Age\n",
       "0   44\n",
       "1   36\n",
       "2   26\n",
       "3   27\n",
       "4   40"
      ]
     },
     "execution_count": 2,
     "metadata": {},
     "output_type": "execute_result"
    }
   ],
   "source": [
    "np.random.seed(1500) #Using the seed function to ensure the output in the same every time the notebook is run\n",
    "#https://www.sharpsightlabs.com/blog/numpy-random-seed/\n",
    "age =np.random.randint(25,65,200) # randomly generate numbers between 25 and 64 with 200 datapoint\n",
    "# https://www.geeksforgeeks.org/random-sampling-in-numpy-randint-function/\n",
    "age = age.round(0) # Round the integers\n",
    "#https://stackoverflow.com/questions/46994426/how-to-round-numpy-array\n",
    "age_df = pd.DataFrame(age, columns=['Age'])#Creating a dataframe with a column heading 'Age'\n",
    "age_df.head()# Displaying the head of the dataframe"
   ]
  },
  {
   "cell_type": "markdown",
   "metadata": {},
   "source": [
    "To further explore the dataset generated, the describe function is called. "
   ]
  },
  {
   "cell_type": "code",
   "execution_count": 3,
   "metadata": {
    "scrolled": true
   },
   "outputs": [
    {
     "data": {
      "text/html": [
       "<div>\n",
       "<style scoped>\n",
       "    .dataframe tbody tr th:only-of-type {\n",
       "        vertical-align: middle;\n",
       "    }\n",
       "\n",
       "    .dataframe tbody tr th {\n",
       "        vertical-align: top;\n",
       "    }\n",
       "\n",
       "    .dataframe thead th {\n",
       "        text-align: right;\n",
       "    }\n",
       "</style>\n",
       "<table border=\"1\" class=\"dataframe\">\n",
       "  <thead>\n",
       "    <tr style=\"text-align: right;\">\n",
       "      <th></th>\n",
       "      <th>Age</th>\n",
       "    </tr>\n",
       "  </thead>\n",
       "  <tbody>\n",
       "    <tr>\n",
       "      <th>count</th>\n",
       "      <td>200.000000</td>\n",
       "    </tr>\n",
       "    <tr>\n",
       "      <th>mean</th>\n",
       "      <td>43.150000</td>\n",
       "    </tr>\n",
       "    <tr>\n",
       "      <th>std</th>\n",
       "      <td>11.781832</td>\n",
       "    </tr>\n",
       "    <tr>\n",
       "      <th>min</th>\n",
       "      <td>25.000000</td>\n",
       "    </tr>\n",
       "    <tr>\n",
       "      <th>25%</th>\n",
       "      <td>33.750000</td>\n",
       "    </tr>\n",
       "    <tr>\n",
       "      <th>50%</th>\n",
       "      <td>42.000000</td>\n",
       "    </tr>\n",
       "    <tr>\n",
       "      <th>75%</th>\n",
       "      <td>52.000000</td>\n",
       "    </tr>\n",
       "    <tr>\n",
       "      <th>max</th>\n",
       "      <td>64.000000</td>\n",
       "    </tr>\n",
       "  </tbody>\n",
       "</table>\n",
       "</div>"
      ],
      "text/plain": [
       "              Age\n",
       "count  200.000000\n",
       "mean    43.150000\n",
       "std     11.781832\n",
       "min     25.000000\n",
       "25%     33.750000\n",
       "50%     42.000000\n",
       "75%     52.000000\n",
       "max     64.000000"
      ]
     },
     "execution_count": 3,
     "metadata": {},
     "output_type": "execute_result"
    }
   ],
   "source": [
    "age_df.describe()"
   ]
  },
  {
   "cell_type": "markdown",
   "metadata": {},
   "source": [
    "The mean of the dataframe is 43.15 years and the mode is 42 indicating that the data in the table are slightly skewed to the left. The below distribution visualises the spread. #https://cnx.org/contents/bE-w34Vi@9/Descriptive-Statistics-Skewness-and-the-Mean-Median-and-Mode"
   ]
  },
  {
   "cell_type": "code",
   "execution_count": 4,
   "metadata": {},
   "outputs": [
    {
     "data": {
      "text/plain": [
       "<matplotlib.axes._subplots.AxesSubplot at 0x24d1112bdd8>"
      ]
     },
     "execution_count": 4,
     "metadata": {},
     "output_type": "execute_result"
    },
    {
     "data": {
      "image/png": "[encoded data removed]",
      "text/plain": [
       "<Figure size 1152x432 with 1 Axes>"
      ]
     },
     "metadata": {
      "needs_background": "light"
     },
     "output_type": "display_data"
    }
   ],
   "source": [
    "plt.figure(figsize=(16, 6))\n",
    "sns.countplot('Age', data= age_df)"
   ]
  },
  {
   "cell_type": "code",
   "execution_count": 5,
   "metadata": {},
   "outputs": [
    {
     "name": "stderr",
     "output_type": "stream",
     "text": [
      "C:\\Users\\Owner1\\Anaconda3\\lib\\site-packages\\scipy\\stats\\stats.py:1713: FutureWarning: Using a non-tuple sequence for multidimensional indexing is deprecated; use `arr[tuple(seq)]` instead of `arr[seq]`. In the future this will be interpreted as an array index, `arr[np.array(seq)]`, which will result either in an error or a different result.\n",
      "  return np.add.reduce(sorted[indexer] * weights, axis=axis) / sumval\n"
     ]
    },
    {
     "data": {
      "image/png": "[encoded data removed]",
      "text/plain": [
       "<Figure size 720x288 with 1 Axes>"
      ]
     },
     "metadata": {},
     "output_type": "display_data"
    }
   ],
   "source": [
    "#https://pythonbasics.org/seaborn-distplot/\n",
    "sns.set(rc={\"figure.figsize\": (10, 4)})\n",
    "ax = sns.distplot(age_df)\n",
    "plt.title(\"Age Distribution\") # Title for the graph\n",
    "plt.xlabel(\"Age\") # X-Axis labelling\n",
    "plt.ylabel(\" Number of People\") # Y-Axis labelling\n",
    "plt.show()"
   ]
  },
  {
   "cell_type": "markdown",
   "metadata": {},
   "source": [
    "#### Education Attainment  <br>\n",
    "\n",
    "The Education Attainment variable is categorical with 5 values: Primary Level, Lower Secondary Level, Upper Secondary Level, Post Level Certificate and Third Level. Using the Thematic Report from November 2019 referenced in this sections introduction, weighting will be added in to ensure the data is simulating a real life phenomenon."
   ]
  },
  {
   "cell_type": "code",
   "execution_count": 6,
   "metadata": {},
   "outputs": [
    {
     "data": {
      "text/html": [
       "<div>\n",
       "<style scoped>\n",
       "    .dataframe tbody tr th:only-of-type {\n",
       "        vertical-align: middle;\n",
       "    }\n",
       "\n",
       "    .dataframe tbody tr th {\n",
       "        vertical-align: top;\n",
       "    }\n",
       "\n",
       "    .dataframe thead th {\n",
       "        text-align: right;\n",
       "    }\n",
       "</style>\n",
       "<table border=\"1\" class=\"dataframe\">\n",
       "  <thead>\n",
       "    <tr style=\"text-align: right;\">\n",
       "      <th></th>\n",
       "      <th>Education Level</th>\n",
       "    </tr>\n",
       "  </thead>\n",
       "  <tbody>\n",
       "    <tr>\n",
       "      <th>0</th>\n",
       "      <td>Third Level</td>\n",
       "    </tr>\n",
       "    <tr>\n",
       "      <th>1</th>\n",
       "      <td>Higher Secondary</td>\n",
       "    </tr>\n",
       "    <tr>\n",
       "      <th>2</th>\n",
       "      <td>Third Level</td>\n",
       "    </tr>\n",
       "    <tr>\n",
       "      <th>3</th>\n",
       "      <td>Lower Secondary</td>\n",
       "    </tr>\n",
       "    <tr>\n",
       "      <th>4</th>\n",
       "      <td>Third Level</td>\n",
       "    </tr>\n",
       "  </tbody>\n",
       "</table>\n",
       "</div>"
      ],
      "text/plain": [
       "    Education Level\n",
       "0       Third Level\n",
       "1  Higher Secondary\n",
       "2       Third Level\n",
       "3   Lower Secondary\n",
       "4       Third Level"
      ]
     },
     "execution_count": 6,
     "metadata": {},
     "output_type": "execute_result"
    }
   ],
   "source": [
    "#References for values contained in the dataset\n",
    "level = ['Primary Level', 'Lower Secondary', 'Higher Secondary', 'Post Leaving Certificate', 'Third Level']\n",
    "#Based on statistics, a probability for each string is created.\n",
    "# Probability is as follows: Primary Level is the lowest, Lower Secondary is .11 and so on\n",
    "prob = [0.05, 0.11, 0.22, 0.15, 0.47]\n",
    "education_level = np.random.choice(level, 200, p=prob) #random choice is used to generate the dataframe\n",
    "\n",
    "# Creates a dataframe\n",
    "education_level_df = pd.DataFrame(education_level, columns=['Education Level'])\n",
    "\n",
    "#showing the first 5 references\n",
    "education_level_df.head()"
   ]
  },
  {
   "cell_type": "code",
   "execution_count": 7,
   "metadata": {},
   "outputs": [
    {
     "data": {
      "text/html": [
       "<div>\n",
       "<style scoped>\n",
       "    .dataframe tbody tr th:only-of-type {\n",
       "        vertical-align: middle;\n",
       "    }\n",
       "\n",
       "    .dataframe tbody tr th {\n",
       "        vertical-align: top;\n",
       "    }\n",
       "\n",
       "    .dataframe thead th {\n",
       "        text-align: right;\n",
       "    }\n",
       "</style>\n",
       "<table border=\"1\" class=\"dataframe\">\n",
       "  <thead>\n",
       "    <tr style=\"text-align: right;\">\n",
       "      <th></th>\n",
       "      <th>Education Level</th>\n",
       "    </tr>\n",
       "  </thead>\n",
       "  <tbody>\n",
       "    <tr>\n",
       "      <th>count</th>\n",
       "      <td>200</td>\n",
       "    </tr>\n",
       "    <tr>\n",
       "      <th>unique</th>\n",
       "      <td>5</td>\n",
       "    </tr>\n",
       "    <tr>\n",
       "      <th>top</th>\n",
       "      <td>Third Level</td>\n",
       "    </tr>\n",
       "    <tr>\n",
       "      <th>freq</th>\n",
       "      <td>94</td>\n",
       "    </tr>\n",
       "  </tbody>\n",
       "</table>\n",
       "</div>"
      ],
      "text/plain": [
       "       Education Level\n",
       "count              200\n",
       "unique               5\n",
       "top        Third Level\n",
       "freq                94"
      ]
     },
     "execution_count": 7,
     "metadata": {},
     "output_type": "execute_result"
    }
   ],
   "source": [
    "education_level_df.describe()"
   ]
  },
  {
   "cell_type": "code",
   "execution_count": 9,
   "metadata": {},
   "outputs": [
    {
     "data": {
      "image/png": "[encoded data removed]",
      "text/plain": [
       "<Figure size 720x288 with 1 Axes>"
      ]
     },
     "metadata": {},
     "output_type": "display_data"
    }
   ],
   "source": [
    "sns.set(rc={\"figure.figsize\": (10, 4)})\n",
    "ax = sns.countplot(x ='Education Level', data = education_level_df)\n",
    "plt.title(\"Highest level of Education attained\") # Title for the graph\n",
    "plt.xlabel(\"Levels of Education\") # X-Axis labelling\n",
    "plt.ylabel(\"Number of People\") # Y-Axis labelling\n",
    "plt.show()"
   ]
  },
  {
   "cell_type": "code",
   "execution_count": null,
   "metadata": {},
   "outputs": [],
   "source": []
  },
  {
   "cell_type": "code",
   "execution_count": null,
   "metadata": {},
   "outputs": [],
   "source": []
  }
 ],
 "metadata": {
  "kernelspec": {
   "display_name": "Python 3",
   "language": "python",
   "name": "python3"
  },
  "language_info": {
   "codemirror_mode": {
    "name": "ipython",
    "version": 3
   },
   "file_extension": ".py",
   "mimetype": "text/x-python",
   "name": "python",
   "nbconvert_exporter": "python",
   "pygments_lexer": "ipython3",
   "version": "3.7.1"
  }
 },
 "nbformat": 4,
 "nbformat_minor": 2
}

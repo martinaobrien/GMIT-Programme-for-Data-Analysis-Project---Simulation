{
 "cells": [
  {
   "cell_type": "markdown",
   "metadata": {},
   "source": [
    "# Programme for Data Analysis: Simulating a Dataset<img align=\"right\" src=\"img/gmit_logo.jpg\">\n",
    "\n",
    "## Real World Phenomenon: The Impact of Education Attainment on Employment \n",
    "\n",
    "**GMIT Higher Diploma in Data Analytics**<br>\n",
    "**Module:** Programming for Data Analytics<br>\n",
    "**Author:** Martina O'Brien<br>\n",
    "**Submissiom date:** 13 December 2019<br>\n",
    "\n",
    "Submitted as part of the requirements for the GMIT Higher Diploma in Data Analysis as part of the module Programme for Data Analysis 2019.\n",
    "\n",
    "### Table of Contents: \n",
    "**Section 1: Introduction**:<br>\n",
    "    \n",
    "    1.1:Introduction and Background\n",
    "    \n",
    "**Section 2:Modeling and Sythesising the Data:**\n",
    "       \n",
    "    2.1: Setting up the dataframe\n",
    "    2.2: Creating Dataframe\n",
    "    2.3: Distributions in the Dataframe\n",
    "    2.4: Relationships between the variables\n",
    "\n",
    "**Section 3: Conclusion:**\n",
    "    \n",
    "    3.1: Potential areas of future explorations\n",
    "\n",
    "**Section 4: References:**\n",
    "\n",
    "    4.1: References\n",
    "    4.2: Useful Links"
   ]
  },
  {
   "cell_type": "markdown",
   "metadata": {},
   "source": [
    "##### Importing Libraries for use in the Notebook"
   ]
  },
  {
   "cell_type": "code",
   "execution_count": 1,
   "metadata": {
    "scrolled": true
   },
   "outputs": [
    {
     "name": "stderr",
     "output_type": "stream",
     "text": [
      "UsageError: unrecognized arguments: #calling the magic command to display plots\n"
     ]
    }
   ],
   "source": [
    "#Importing Libraries needed for notebook\n",
    "import numpy as np \n",
    "import pandas as pd \n",
    "import matplotlib.pyplot as plt \n",
    "import seaborn as sns\n",
    "\n",
    "%matplotlib inline #calling the magic command to display plots"
   ]
  },
  {
   "cell_type": "markdown",
   "metadata": {},
   "source": [
    "### **Section 1: Introduction**"
   ]
  },
  {
   "cell_type": "markdown",
   "metadata": {},
   "source": [
    "#### 1.1. Introduction and Background:\n",
    " \n",
    "Educational attainment is well known to be a factor influencing the employment predictability of an individual (1). In Ireland, it is compulsory to attend full time education from the ages of 6 - 16 years or until the finish of 3 years of second level education or the completion of the Junior Cycle curriculum under the Education Act 2000 (2). While Ireland is currently reaching full employment, with only 4.8% unemployment still existing (3). This rate is nearly equal to that of in 2007 before the economic recession occurred. This notebook explores data modelled on the predictability of an individual's employment status in relation to the highest level of education completed.<br>\n",
    "\n",
    "While the overall picture of employment looks healthy, there are still concerning statistics amongst certain groups of individuals in particular early school leavers (ESLs) (4). Conversely, young people also experience high rates of unemployment in Ireland with 12.5% of young people. (5, 6). Conversely, It is important to understand the relationship between education and employment in order to address the arising needs and promote resilience for individuals within recession as it is well know that those with higher education levels are more likely to be employed.\n",
    "\n",
    "##### About this dataset:  <br>\n",
    "In November, 2019, the most recent Educational Attainment Thematic Report 2019 was released by the Central Statistics Office, detailing the key findings in the relationship between educational attainment and employment (7)  This notebook will explore the relationship between educational attainment and employment in Ireland today.\n",
    "\n",
    "The dataset will contain 200 data points over 4 variable: gender, age, educational attainment and employment.\n",
    "\n",
    "| Variable  | Type | Description |\n",
    "| --- | --- | --- |\n",
    "| Gender | Categorical | Sex - Male/Female |\n",
    "| Age | Numerical | Value between 25 and 65 years of ages|\n",
    "| Educational Attainment | Categorical | Highest level of education obtained|\n",
    "|Employment | Categorical | Employment status - Yes/No|\n",
    "\n",
    "\n",
    "A dataset will be modelled on the findings of the above report insofar as possible and randomly synthesised for the purpose of this report. The weighted variables and methodology will be outlined in the next section. \n",
    "\n",
    "\n",
    "##### Motivation for this project: \n",
    "As a youth work professional in the area of youth entrepreneurship, identifying barriers for accessing employment is a key aspect of the role. This project will enable me to gain some further insight into the current picture of unemployment in Ireland and the socio economic factors that may be associated with that.   "
   ]
  },
  {
   "cell_type": "markdown",
   "metadata": {},
   "source": [
    "### Section 2: Modelling and Synthesising the Data"
   ]
  },
  {
   "cell_type": "markdown",
   "metadata": {},
   "source": [
    "#### 2.1: Creating a dataframe: <br>\n",
    "\n",
    "In this section, a dataframe will be created using the numpy.random function. The data will be replicable where applicable. Firstly, the data for the variables will be created. This data is based on CSO variance on each of the four variables. <br>\n",
    "\n",
    "##### Age <br>"
   ]
  },
  {
   "cell_type": "markdown",
   "metadata": {},
   "source": [
    "Firstly, the age variable is generated. It is done by using the np.random.seed function to ensure that the data generated is the same each time the notebook is ran. Next, random ages are generated between 25 - 64 years at 200 data points. This will represent that ages withing the data set. The ages are rounded up or down to give a whole integer. Finally, the data frame is created to be used further on in the dataset."
   ]
  },
  {
   "cell_type": "code",
   "execution_count": null,
   "metadata": {},
   "outputs": [],
   "source": [
    "np.random.seed(1500) #Using the seed function to ensure the output in the same every time the notebook is run\n",
    "#(8)\n",
    "age =np.random.randint(25,65,200) # randomly generate numbers between 25 and 64 with 200 datapoint\n",
    "#(9)\n",
    "age = age.round(0) # Round the integers\n",
    "#(10)\n",
    "age_df = pd.DataFrame(age, columns=['Age'])#Creating a dataframe with a column heading 'Age'\n",
    "age_df.head()# Displaying the head of the dataframe"
   ]
  },
  {
   "cell_type": "code",
   "execution_count": null,
   "metadata": {
    "scrolled": true
   },
   "outputs": [],
   "source": [
    "age_df.describe()"
   ]
  },
  {
   "cell_type": "markdown",
   "metadata": {},
   "source": [
    "The mean of the dataframe is 43.15 years and the mode is 42 indicating that the data in the table are slightly skewed to the left. The below distribution visualises the spread (11). "
   ]
  },
  {
   "cell_type": "markdown",
   "metadata": {},
   "source": [
    "##### Education Attainment  <br>\n",
    "\n",
    "The Education Attainment variable is categorical with 5 values: *Primary Level, Lower Secondary Level, Upper Secondary Level, Post Level Certificate and Third Level*. Using the Thematic Report from November 2019 referenced in this sections introduction, weighting will be added in to ensure the data is simulating a real life phenomenon."
   ]
  },
  {
   "cell_type": "code",
   "execution_count": null,
   "metadata": {},
   "outputs": [],
   "source": [
    "#References for values contained in the dataset\n",
    "level = ['Primary Level', 'Lower Secondary', 'Higher Secondary', 'Post Leaving Certificate', 'Third Level']\n",
    "#Based on statistics, a probability for each string is created.\n",
    "# Probability is as follows: Primary Level is the lowest, Lower Secondary is .11 and so on\n",
    "prob = [0.05, 0.11, 0.22, 0.15, 0.47]\n",
    "education_level = np.random.choice(level, 200, p=prob) #random choice is used to generate the dataframe\n",
    "# Creates a dataframe\n",
    "education_level_df = pd.DataFrame(education_level, columns=['Education Level'])\n",
    "#showing the first 5 references\n",
    "education_level_df.head()"
   ]
  },
  {
   "cell_type": "code",
   "execution_count": null,
   "metadata": {},
   "outputs": [],
   "source": [
    "education_level_df.describe()"
   ]
  },
  {
   "cell_type": "markdown",
   "metadata": {},
   "source": [
    "##### Gender:"
   ]
  },
  {
   "cell_type": "code",
   "execution_count": null,
   "metadata": {
    "scrolled": true
   },
   "outputs": [],
   "source": [
    "gender = ['male','female']\n",
    "sex = np.random.choice(gender, 200)\n",
    "gender_df = pd.DataFrame(sex, columns=['Gender'])\n",
    "gender_df.head()"
   ]
  },
  {
   "cell_type": "code",
   "execution_count": null,
   "metadata": {},
   "outputs": [],
   "source": [
    "gender_df.describe()"
   ]
  },
  {
   "cell_type": "code",
   "execution_count": null,
   "metadata": {
    "scrolled": true
   },
   "outputs": [],
   "source": [
    "#create data for references\n",
    "status = ['Employed', 'Not Employed']\n",
    "#created a probability for each string, leaving a higher probability for 'reasonable' and 'good'\n",
    "prob_employment = [0.952,0.048]\n",
    "employment = np.random.choice(status, 200, p=prob_employment)\n",
    "\n",
    "##creating the dataframe for the references\n",
    "employment_df = pd.DataFrame(employment, columns=['Employment Status'])\n",
    "\n",
    "#showing the first 5 references\n",
    "employment_df.head()"
   ]
  },
  {
   "cell_type": "code",
   "execution_count": null,
   "metadata": {},
   "outputs": [],
   "source": [
    "employment_df.describe()"
   ]
  },
  {
   "cell_type": "markdown",
   "metadata": {},
   "source": [
    " ##### Creating Dataframe"
   ]
  },
  {
   "cell_type": "code",
   "execution_count": null,
   "metadata": {
    "scrolled": true
   },
   "outputs": [],
   "source": [
    "# merging all dataframes in one\n",
    "merged = pd.concat([age_df, education_level_df, gender_df, employment_df], axis=1)\n",
    "\n",
    "\n",
    "#creating the dataframe for the final merged list\n",
    "merged_df = pd.DataFrame(merged)\n",
    "\n",
    "\n",
    "#save list to a csv file\n",
    "merged_df.to_csv(\"merged_df.csv\")\n",
    "\n",
    "#displaying the list\n",
    "merged_df"
   ]
  },
  {
   "cell_type": "markdown",
   "metadata": {},
   "source": [
    "##### 2.4: Distributions in the Dataframe"
   ]
  },
  {
   "cell_type": "code",
   "execution_count": null,
   "metadata": {
    "scrolled": true
   },
   "outputs": [],
   "source": [
    "plt.figure(figsize=(16, 6))\n",
    "sns.countplot('Age', data= age_df)"
   ]
  },
  {
   "cell_type": "code",
   "execution_count": null,
   "metadata": {
    "scrolled": false
   },
   "outputs": [],
   "source": [
    "#https://pythonbasics.org/seaborn-distplot/\n",
    "sns.set(rc={\"figure.figsize\": (10, 4)})\n",
    "ax = sns.distplot(age_df)\n",
    "plt.title(\"Age Distribution\") # Title for the graph\n",
    "plt.xlabel(\"Age\") # X-Axis labelling\n",
    "plt.ylabel(\" Number of People\") # Y-Axis labelling\n",
    "plt.show()"
   ]
  },
  {
   "cell_type": "code",
   "execution_count": null,
   "metadata": {
    "scrolled": true
   },
   "outputs": [],
   "source": [
    "sns.set(rc={\"figure.figsize\": (10, 4)})\n",
    "ax = sns.countplot(x ='Education Level', data = education_level_df, order=[\"Primary Level\", \"Lower Secondary\", \"Higher Secondary\",\"Post Leaving Certificate\",\"Third Level\"])\n",
    "plt.title(\"Highest level of Education attained\") # Title for the graph\n",
    "plt.xlabel(\"Levels of Education\") # X-Axis labelling\n",
    "plt.ylabel(\"Number of People\") # Y-Axis labelling\n",
    "plt.show()"
   ]
  },
  {
   "cell_type": "code",
   "execution_count": null,
   "metadata": {},
   "outputs": [],
   "source": [
    "sns.set(rc={\"figure.figsize\": (10, 4)})\n",
    "ax = sns.countplot(x ='Gender', data = education_level_df\n",
    "plt.title(\"Breakdown of Gender\") # Title for the graph\n",
    "plt.xlabel(\"Gender\") # X-Axis labelling\n",
    "plt.ylabel(\"Number of People\") # Y-Axis labelling\n",
    "plt.show()"
   ]
  },
  {
   "cell_type": "code",
   "execution_count": null,
   "metadata": {},
   "outputs": [],
   "source": [
    "sns.countplot(\"Employment Status\", hue='Gender', data= merged_df)\n",
    "sns.set_palette(\"pastel\")"
   ]
  },
  {
   "cell_type": "code",
   "execution_count": null,
   "metadata": {},
   "outputs": [],
   "source": [
    "sns.countplot(\"Education Level\", hue='Gender', data= merged_df)\n",
    "sns.set_palette(\"pastel\")"
   ]
  },
  {
   "cell_type": "code",
   "execution_count": null,
   "metadata": {},
   "outputs": [],
   "source": [
    "sns.countplot(\"Gender\", hue='Education Level', data= merged_df)\n",
    "sns.set_palette(\"pastel\")"
   ]
  },
  {
   "cell_type": "code",
   "execution_count": null,
   "metadata": {},
   "outputs": [],
   "source": [
    "sns.distplot(y = 'Age',x = 'Employment Status')"
   ]
  },
  {
   "cell_type": "markdown",
   "metadata": {},
   "source": [
    "### Conclusion"
   ]
  },
  {
   "cell_type": "markdown",
   "metadata": {},
   "source": [
    "##### Distributions within the Notebook: \n",
    "https://mode.com/python-tutorial/python-histograms-boxplots-and-distributions/"
   ]
  },
  {
   "cell_type": "markdown",
   "metadata": {},
   "source": [
    "### References:"
   ]
  },
  {
   "cell_type": "markdown",
   "metadata": {},
   "source": [
    "##### 4.1: References<br>\n",
    "1.\thttps://www.oecd-ilibrary.org/docserver/eag_highlights-2012-11-en.pdf?expires=1575233714&id=id&accname=guest&checksum=6E048A8FBA5F60213205266CDAA4CE07 http://www.welfare.ie/en/Pages/Chapter-3_-Risk-and-Protection-for-Children.aspx<br>\n",
    "2.\t https://www.citizensinformation.ie/en/education/the_irish_education_system/overview_of_the_irish_education_system.html\n",
    "3.\thttps://www.cso.ie/en/statistics/labourmarket/monthlyunemployment/<br>\n",
    "4.\thttp://www.welfare.ie/en/Pages/Chapter-3_-Risk-and-Protection-for-Children.aspx.<br>\n",
    "5.\thttp://publicpolicy.ie/papers/education-and-employment-a-review-of-educational-attainment-and-labour-market-outcomes/<br>\n",
    "6.\thttps://pdf.cso.ie/www/pdf/20191203081521_Monthly_Unemployment_November_2019_summary.pdf<br>\n",
    "7.\thttps://www.cso.ie/en/releasesandpublications/er/eda/educationalattainmentthematicreport2019/\n",
    " <br>\n",
    "8.\thttps://www.sharpsightlabs.com/blog/numpy-random-seed<br>\n",
    "9.\thttps://www.geeksforgeeks.org/random-sampling-in-numpy-randint-function<br>\n",
    "10.\thttps://stackoverflow.com/questions/46994426/how-to-round-numpy-array<br>\n",
    "\n",
    "\n",
    "##### 4.2: Useful Links<br>"
   ]
  },
  {
   "cell_type": "code",
   "execution_count": null,
   "metadata": {},
   "outputs": [],
   "source": []
  }
 ],
 "metadata": {
  "kernelspec": {
   "display_name": "Python 3",
   "language": "python",
   "name": "python3"
  },
  "language_info": {
   "codemirror_mode": {
    "name": "ipython",
    "version": 3
   },
   "file_extension": ".py",
   "mimetype": "text/x-python",
   "name": "python",
   "nbconvert_exporter": "python",
   "pygments_lexer": "ipython3",
   "version": "3.7.1"
  }
 },
 "nbformat": 4,
 "nbformat_minor": 2
}
